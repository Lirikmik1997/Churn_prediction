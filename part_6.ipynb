{
 "cells": [
  {
   "cell_type": "markdown",
   "metadata": {},
   "source": [
    "# Оценка эффекта от внедрения полученного решения\n",
    "Для начала применим модель к отложенной выборке."
   ]
  },
  {
   "cell_type": "code",
   "execution_count": 140,
   "metadata": {},
   "outputs": [],
   "source": [
    "import pandas as pd\n",
    "from catboost import CatBoostClassifier\n",
    "from sklearn.model_selection import GridSearchCV, StratifiedKFold\n",
    "from sklearn.metrics import recall_score"
   ]
  },
  {
   "cell_type": "code",
   "execution_count": 54,
   "metadata": {},
   "outputs": [],
   "source": [
    "data_train = pd.read_csv('data_train.csv')\n",
    "data_test = pd.read_csv('hold_out_dataset.csv')"
   ]
  },
  {
   "cell_type": "code",
   "execution_count": 7,
   "metadata": {},
   "outputs": [],
   "source": [
    "churn = data_train[data_train.y == 1].shape[0] # число клиентов класса \"отток\"\n",
    "not_churn = data_train[data_train.y == -1].shape[0] # число клиентов класса \"не отток\"\n",
    "all_ = data_train.shape[0] # число всех клиентов\n",
    "class_weights = [all_ / (2 * not_churn), all_ / (2 * churn)]"
   ]
  },
  {
   "cell_type": "code",
   "execution_count": 55,
   "metadata": {},
   "outputs": [],
   "source": [
    "num_col = data_train.columns[1:190]\n",
    "cat_col = data_train.columns[190:-1]"
   ]
  },
  {
   "cell_type": "code",
   "execution_count": 56,
   "metadata": {},
   "outputs": [],
   "source": [
    "drop_col = data_train.count(axis=0)[data_train.count(axis=0) == 0].index # столбцы, у которых все значения пропущены\n",
    "data_train = data_train.drop(drop_col, axis=1)"
   ]
  },
  {
   "cell_type": "code",
   "execution_count": 69,
   "metadata": {},
   "outputs": [],
   "source": [
    "data_test = data_test.drop(drop_col, axis=1)"
   ]
  },
  {
   "cell_type": "code",
   "execution_count": 57,
   "metadata": {},
   "outputs": [],
   "source": [
    "cat_columns = [c for c in cat_col if c in data_train.columns]"
   ]
  },
  {
   "cell_type": "code",
   "execution_count": 11,
   "metadata": {},
   "outputs": [],
   "source": [
    "def fill_missing_values(df):\n",
    "    num_columns = [c for c in num_col if c in df.columns]\n",
    "    df_num = df[num_columns].fillna(0)\n",
    "    df_cat = df[cat_columns].fillna(\"NA\", axis=0)\n",
    "    X = pd.concat([df_num, df_cat], axis=1)\n",
    "    return X"
   ]
  },
  {
   "cell_type": "code",
   "execution_count": 71,
   "metadata": {},
   "outputs": [],
   "source": [
    "X = fill_missing_values(data_train)\n",
    "y = data_train.y"
   ]
  },
  {
   "cell_type": "code",
   "execution_count": 72,
   "metadata": {},
   "outputs": [],
   "source": [
    "X_test = fill_missing_values(data_test)\n",
    "y_test = data_test.y"
   ]
  },
  {
   "cell_type": "code",
   "execution_count": 59,
   "metadata": {},
   "outputs": [
    {
     "data": {
      "text/plain": [
       "GridSearchCV(cv=StratifiedKFold(n_splits=5, random_state=None, shuffle=True),\n",
       "             estimator=<catboost.core.CatBoostClassifier object at 0x000001C000928880>,\n",
       "             n_jobs=-1,\n",
       "             param_grid={'class_weights': [[0.540321491287316,\n",
       "                                            6.700167504187605],\n",
       "                                           None]},\n",
       "             scoring='roc_auc')"
      ]
     },
     "execution_count": 59,
     "metadata": {},
     "output_type": "execute_result"
    }
   ],
   "source": [
    "cv = StratifiedKFold(shuffle=True)\n",
    "model = CatBoostClassifier(iterations=300,\n",
    "                           learning_rate=0.1,\n",
    "                           depth=2,\n",
    "                           cat_features=cat_columns,\n",
    "                           verbose=False)\n",
    "opt = GridSearchCV(model, param_grid={'class_weights': [class_weights, None]}, scoring='roc_auc', n_jobs=-1, cv=cv)\n",
    "opt.fit(X, y)"
   ]
  },
  {
   "cell_type": "code",
   "execution_count": 60,
   "metadata": {},
   "outputs": [],
   "source": [
    "result = pd.DataFrame({'probability': opt.predict_proba(X)[:, 1], 'labels': y})"
   ]
  },
  {
   "cell_type": "code",
   "execution_count": 62,
   "metadata": {},
   "outputs": [],
   "source": [
    "error = result[((result.probability > 0.9) & (result.labels == -1)) | \n",
    "               ((result.probability < 0.1) & (result.labels == 1))]"
   ]
  },
  {
   "cell_type": "code",
   "execution_count": 142,
   "metadata": {},
   "outputs": [
    {
     "data": {
      "text/plain": [
       "GridSearchCV(cv=StratifiedKFold(n_splits=5, random_state=None, shuffle=True),\n",
       "             estimator=<catboost.core.CatBoostClassifier object at 0x000001C000928880>,\n",
       "             n_jobs=-1,\n",
       "             param_grid={'class_weights': [[0.540321491287316,\n",
       "                                            6.700167504187605],\n",
       "                                           None]},\n",
       "             scoring='roc_auc')"
      ]
     },
     "execution_count": 142,
     "metadata": {},
     "output_type": "execute_result"
    }
   ],
   "source": [
    "new_X = X.drop(error.index, axis=0)\n",
    "new_y = y.drop(error.index)\n",
    "opt.fit(new_X, new_y)"
   ]
  },
  {
   "cell_type": "code",
   "execution_count": 75,
   "metadata": {},
   "outputs": [],
   "source": [
    "result_test = pd.DataFrame({'probability': opt.predict_proba(X_test)[:, 1], 'labels': y_test})"
   ]
  },
  {
   "cell_type": "code",
   "execution_count": 143,
   "metadata": {},
   "outputs": [
    {
     "data": {
      "text/plain": [
       "0.6360544217687075"
      ]
     },
     "execution_count": 143,
     "metadata": {},
     "output_type": "execute_result"
    }
   ],
   "source": [
    "recall_score(result_test.labels, opt.predict(X_test))"
   ]
  },
  {
   "cell_type": "code",
   "execution_count": 148,
   "metadata": {},
   "outputs": [
    {
     "data": {
      "text/plain": [
       "0.7233184558226959"
      ]
     },
     "execution_count": 148,
     "metadata": {},
     "output_type": "execute_result"
    }
   ],
   "source": [
    "roc_auc_score(result_test.labels, result_test.probability)"
   ]
  },
  {
   "cell_type": "code",
   "execution_count": null,
   "metadata": {},
   "outputs": [],
   "source": []
  },
  {
   "cell_type": "code",
   "execution_count": 144,
   "metadata": {
    "scrolled": true
   },
   "outputs": [
    {
     "data": {
      "text/plain": [
       "GridSearchCV(cv=StratifiedKFold(n_splits=5, random_state=None, shuffle=True),\n",
       "             estimator=<catboost.core.CatBoostClassifier object at 0x000001C000928880>,\n",
       "             n_jobs=-1,\n",
       "             param_grid={'class_weights': [[0.540321491287316,\n",
       "                                            6.700167504187605],\n",
       "                                           None]},\n",
       "             scoring='roc_auc')"
      ]
     },
     "execution_count": 144,
     "metadata": {},
     "output_type": "execute_result"
    }
   ],
   "source": [
    "poor_obj = data_train.count(axis=1)[data_train.count(axis=1) < 53].index\n",
    "X_2 = new_X.drop(poor_obj, axis=0)\n",
    "y_2 = new_y.drop(poor_obj)\n",
    "opt.fit(X_2, y_2)"
   ]
  },
  {
   "cell_type": "code",
   "execution_count": 145,
   "metadata": {
    "scrolled": true
   },
   "outputs": [
    {
     "data": {
      "text/plain": [
       "0.6428571428571429"
      ]
     },
     "execution_count": 145,
     "metadata": {},
     "output_type": "execute_result"
    }
   ],
   "source": [
    "recall_score(result_test.labels, opt.predict(X_test))"
   ]
  },
  {
   "cell_type": "code",
   "execution_count": 146,
   "metadata": {},
   "outputs": [],
   "source": [
    "result_test_ = pd.DataFrame({'probability': opt.predict_proba(X_test)[:, 1], 'labels': y_test})"
   ]
  },
  {
   "cell_type": "code",
   "execution_count": 147,
   "metadata": {
    "scrolled": true
   },
   "outputs": [
    {
     "data": {
      "text/plain": [
       "0.724698136135188"
      ]
     },
     "execution_count": 147,
     "metadata": {},
     "output_type": "execute_result"
    }
   ],
   "source": [
    "roc_auc_score(result_test_.labels, result_test_.probability)"
   ]
  },
  {
   "cell_type": "code",
   "execution_count": 155,
   "metadata": {},
   "outputs": [],
   "source": [
    "result_test_['p_i'] = np.random.choice(np.arange(100), 8000) / 100"
   ]
  },
  {
   "cell_type": "code",
   "execution_count": 157,
   "metadata": {},
   "outputs": [
    {
     "name": "stderr",
     "output_type": "stream",
     "text": [
      "<ipython-input-157-952be36ad10d>:1: UserWarning: Boolean Series key will be reindexed to match DataFrame index.\n",
      "  result_test_.sort_values(by='probability', ascending=False)[:80][result_test_.p_i > 0.5].shape\n"
     ]
    },
    {
     "data": {
      "text/plain": [
       "(35, 3)"
      ]
     },
     "execution_count": 157,
     "metadata": {},
     "output_type": "execute_result"
    }
   ],
   "source": [
    "result_test_.sort_values(by='probability', ascending=False)[:80][result_test_.p_i > 0.5].shape"
   ]
  },
  {
   "cell_type": "code",
   "execution_count": null,
   "metadata": {},
   "outputs": [],
   "source": []
  },
  {
   "cell_type": "code",
   "execution_count": null,
   "metadata": {},
   "outputs": [],
   "source": []
  },
  {
   "cell_type": "code",
   "execution_count": null,
   "metadata": {},
   "outputs": [],
   "source": []
  },
  {
   "cell_type": "code",
   "execution_count": null,
   "metadata": {},
   "outputs": [],
   "source": []
  }
 ],
 "metadata": {
  "kernelspec": {
   "display_name": "Python 3",
   "language": "python",
   "name": "python3"
  },
  "language_info": {
   "codemirror_mode": {
    "name": "ipython",
    "version": 3
   },
   "file_extension": ".py",
   "mimetype": "text/x-python",
   "name": "python",
   "nbconvert_exporter": "python",
   "pygments_lexer": "ipython3",
   "version": "3.8.5"
  }
 },
 "nbformat": 4,
 "nbformat_minor": 4
}
