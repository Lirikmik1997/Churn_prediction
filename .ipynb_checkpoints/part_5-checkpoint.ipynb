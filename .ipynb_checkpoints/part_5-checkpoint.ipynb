{
 "cells": [
  {
   "cell_type": "markdown",
   "metadata": {},
   "source": [
    "# Peer-graded Assignment: Эксперименты с моделью\n",
    "\n",
    "На прошлой неделе вы поучаствовали в соревновании на kaggle и, наверняка, большинство успешно справилось с прохождением baseline, а значит пора двигаться дальше - заняться оптимизацией модели, провести серию экспериментов и построить сильное финальное решения.\n",
    "\n",
    "В этом задании вам нужно провести ряд эскпериментов, оценить качество полученных в процессе экспериментирования моделей и выбрать лучшее решение. "
   ]
  },
  {
   "cell_type": "markdown",
   "metadata": {},
   "source": [
    "Задание будет оцениваться на основании загруженного jupyther notebook и развернутых ответов на поставленные вопросы."
   ]
  },
  {
   "cell_type": "markdown",
   "metadata": {},
   "source": [
    "### Загрузка данных"
   ]
  },
  {
   "cell_type": "code",
   "execution_count": 1,
   "metadata": {},
   "outputs": [
    {
     "name": "stdout",
     "output_type": "stream",
     "text": [
      "Populating the interactive namespace from numpy and matplotlib\n"
     ]
    }
   ],
   "source": [
    "import pandas as pd\n",
    "import numpy as np\n",
    "import matplotlib.pyplot as plt\n",
    "from catboost import CatBoostClassifier\n",
    "from sklearn.model_selection import learning_curve, StratifiedKFold, train_test_split, cross_val_score, GridSearchCV\n",
    "from sklearn.metrics import roc_auc_score\n",
    "from sklearn.preprocessing import LabelEncoder\n",
    "from sklearn.pipeline import Pipeline\n",
    "from sklearn.feature_selection import VarianceThreshold\n",
    "from imblearn.under_sampling import TomekLinks, OneSidedSelection\n",
    "%pylab inline"
   ]
  },
  {
   "cell_type": "code",
   "execution_count": 2,
   "metadata": {},
   "outputs": [],
   "source": [
    "data_train = pd.read_csv('orange_small_churn_train_data.csv')\n",
    "data_test = pd.read_csv('orange_small_churn_test_data.csv')"
   ]
  },
  {
   "cell_type": "code",
   "execution_count": 3,
   "metadata": {
    "scrolled": true
   },
   "outputs": [
    {
     "data": {
      "text/plain": [
       "(18299, 232)"
      ]
     },
     "execution_count": 3,
     "metadata": {},
     "output_type": "execute_result"
    }
   ],
   "source": [
    "data_train.shape"
   ]
  },
  {
   "cell_type": "code",
   "execution_count": 4,
   "metadata": {},
   "outputs": [],
   "source": [
    "num_col = data_train.columns[1:191]\n",
    "cat_col = data_train.columns[191:-1]"
   ]
  },
  {
   "cell_type": "markdown",
   "metadata": {},
   "source": [
    "### Начальная предобработка\n",
    "Создадим функцию для заполнения пропущенных значений."
   ]
  },
  {
   "cell_type": "code",
   "execution_count": 19,
   "metadata": {},
   "outputs": [],
   "source": [
    "def fill_missing_values(df):\n",
    "    df_num = df[num_col].fillna(0) # среди числовых признаков заменим пропуски нулевыми значениями\n",
    "    df_cat = df[cat_col].fillna(\"NA\", axis=0) # для категориальных признаков заменим пропуски на отдельную категорию \"NA\"\n",
    "    df = pd.concat([df.ID, df_num, df_cat, df.labels], axis=1)\n",
    "    return df"
   ]
  },
  {
   "cell_type": "markdown",
   "metadata": {},
   "source": [
    "В качестве hold-out dataset буду использовать выборку из тестовой части предыдущего задания:"
   ]
  },
  {
   "cell_type": "code",
   "execution_count": 91,
   "metadata": {},
   "outputs": [],
   "source": [
    "df_num = data_test[num_col].fillna(0) # среди числовых признаков заменим пропуски нулевыми значениями\n",
    "df_cat = data_test[cat_col].fillna(\"NA\", axis=0) \n",
    "df_test = pd.concat([data_test.ID, df_num, df_cat], axis=1)"
   ]
  },
  {
   "cell_type": "code",
   "execution_count": 92,
   "metadata": {},
   "outputs": [],
   "source": [
    "X_test = df_test.drop(['ID'], axis=1)"
   ]
  },
  {
   "cell_type": "markdown",
   "metadata": {},
   "source": [
    "Удаление последнего неразмеченного объекта:"
   ]
  },
  {
   "cell_type": "code",
   "execution_count": 5,
   "metadata": {},
   "outputs": [],
   "source": [
    "data_train = data_train.drop([18298], axis=0)"
   ]
  },
  {
   "cell_type": "markdown",
   "metadata": {},
   "source": [
    "## Инструкции"
   ]
  },
  {
   "cell_type": "markdown",
   "metadata": {},
   "source": [
    "### 1\\. Начнем с простого. Давайте оценим как много объектов действительно нужно для построения качественной модели. Для обучения доступна достаточно большая выборка и может так оказаться, что начиная с некоторого момента рост размера обучающей выборки перестает влиять на качество модели. Постройте кривые обучения, обучая модель на выборках разного размера начиная с небольшого количество объектов в обучающей выборке и постепенно наращивая её размер с некоторым шагом. Обратите внимание на sklearn.model_selection.learning_curve"
   ]
  },
  {
   "cell_type": "code",
   "execution_count": 17,
   "metadata": {},
   "outputs": [],
   "source": [
    "df_train = fill_missing_values(data_train) # заполнение пропусков"
   ]
  },
  {
   "cell_type": "code",
   "execution_count": 25,
   "metadata": {},
   "outputs": [],
   "source": [
    "estimator = CatBoostClassifier(iterations=300, learning_rate=0.1, depth=2, cat_features=cat_col, verbose=False)\n",
    "X = df_train.drop(['ID', 'labels'], axis=1)"
   ]
  },
  {
   "cell_type": "code",
   "execution_count": 19,
   "metadata": {},
   "outputs": [],
   "source": [
    "y = data_train.labels"
   ]
  },
  {
   "cell_type": "code",
   "execution_count": 15,
   "metadata": {},
   "outputs": [],
   "source": [
    "cv = StratifiedKFold(shuffle=True)"
   ]
  },
  {
   "cell_type": "code",
   "execution_count": 41,
   "metadata": {},
   "outputs": [],
   "source": [
    "train_sizes, train_scores, test_scores = learning_curve(estimator,\n",
    "                                                        X, y,\n",
    "                                                        train_sizes = np.linspace(0.1, 1, 10),\n",
    "                                                        cv=cv, scoring='roc_auc')"
   ]
  },
  {
   "cell_type": "code",
   "execution_count": 51,
   "metadata": {},
   "outputs": [
    {
     "data": {
      "image/png": "[encoded data removed]",
      "text/plain": [
       "<Figure size 864x504 with 1 Axes>"
      ]
     },
     "metadata": {
      "needs_background": "light"
     },
     "output_type": "display_data"
    }
   ],
   "source": [
    "plt.figure(figsize=(12, 7))\n",
    "\n",
    "plt.plot(train_sizes, train_scores.mean(axis=1), label='train_data')\n",
    "plt.plot(train_sizes, test_scores.mean(axis=1), label='valid_data')\n",
    "plt.legend()\n",
    "plt.grid(True)"
   ]
  },
  {
   "cell_type": "markdown",
   "metadata": {},
   "source": [
    "Анализируя графики, можно заметить, что при маленькой выборке модель сильно переобучается. С ростом выборки качество на валидационной части начинает увеличиваться, а на обучающей скорее падает, чем растет. Из этого можно сделать вывод, что для построения качественной модели нам нужны все объекты обучающей выборки."
   ]
  },
  {
   "cell_type": "markdown",
   "metadata": {},
   "source": [
    "### 2\\. Часто несбалансированные по классам выборки приводят к различным проблемам при обучении моделей. Давайте попробуем по-разному обработать выборку, поиграть с распределением объектов по классам и сделать выводы о том, как соотношение классов влияет на качество модели."
   ]
  },
  {
   "cell_type": "markdown",
   "metadata": {},
   "source": [
    "#### 2.1\\. Задайте веса объектам так, чтобы соотношение классов с учетом весов объектов изменилось. Попробуйте не менее трёх различных вариантов весов. Меняются ли результаты классификации? Как это сказывается на качестве модели? Какой вариант выглядит наиболее оптимальным с точки зрения качества?"
   ]
  },
  {
   "cell_type": "code",
   "execution_count": 12,
   "metadata": {},
   "outputs": [],
   "source": [
    "X_train, X_valid, y_train, y_valid = train_test_split(X, y, test_size=0.2, stratify=y)"
   ]
  },
  {
   "cell_type": "code",
   "execution_count": 7,
   "metadata": {},
   "outputs": [],
   "source": [
    "churn = data_train[data_train.labels == 1].shape[0] # число клиентов класса \"отток\"\n",
    "not_churn = data_train[data_train.labels == -1].shape[0] # число клиентов класса \"не отток\""
   ]
  },
  {
   "cell_type": "code",
   "execution_count": 8,
   "metadata": {},
   "outputs": [],
   "source": [
    "all_ = data_train.shape[0] # число всех клиентов"
   ]
  },
  {
   "cell_type": "markdown",
   "metadata": {},
   "source": [
    "Первый вариант:"
   ]
  },
  {
   "cell_type": "code",
   "execution_count": 58,
   "metadata": {
    "scrolled": true
   },
   "outputs": [
    {
     "data": {
      "text/plain": [
       "<catboost.core.CatBoostClassifier at 0x141fea730a0>"
      ]
     },
     "execution_count": 58,
     "metadata": {},
     "output_type": "execute_result"
    }
   ],
   "source": [
    "class_weights = [1, not_churn / churn] # CatBoostClassifier имеет атрибут class_weights\n",
    "model = CatBoostClassifier(iterations=300, learning_rate=0.1, depth=2, class_weights=class_weights)\n",
    "model.fit(X_train, y_train, cat_features=cat_col, eval_set=(X_valid, y_valid), verbose=False)"
   ]
  },
  {
   "cell_type": "code",
   "execution_count": 60,
   "metadata": {},
   "outputs": [
    {
     "data": {
      "text/plain": [
       "0.7940065987909368"
      ]
     },
     "execution_count": 60,
     "metadata": {},
     "output_type": "execute_result"
    }
   ],
   "source": [
    "roc_auc_score(y_train, model.predict_proba(X_train)[:, 1])"
   ]
  },
  {
   "cell_type": "code",
   "execution_count": 61,
   "metadata": {},
   "outputs": [
    {
     "data": {
      "text/plain": [
       "0.744335168524238"
      ]
     },
     "execution_count": 61,
     "metadata": {},
     "output_type": "execute_result"
    }
   ],
   "source": [
    "roc_auc_score(y_valid, model.predict_proba(X_valid)[:, 1])"
   ]
  },
  {
   "cell_type": "code",
   "execution_count": 69,
   "metadata": {},
   "outputs": [],
   "source": [
    "ans = pd.DataFrame({'ID': data_test.ID,  'result': model.predict_proba(X_test)[:, 1]})\n",
    "ans.to_csv('kaggle.csv', index=False)\n",
    "# Качество на тесте получилось 0.7153"
   ]
  },
  {
   "cell_type": "markdown",
   "metadata": {},
   "source": [
    "Второй вариант:"
   ]
  },
  {
   "cell_type": "code",
   "execution_count": 75,
   "metadata": {},
   "outputs": [
    {
     "data": {
      "text/plain": [
       "<catboost.core.CatBoostClassifier at 0x141fe1bd460>"
      ]
     },
     "execution_count": 75,
     "metadata": {},
     "output_type": "execute_result"
    }
   ],
   "source": [
    "class_weights = [churn / all_, not_churn / all_]\n",
    "model = CatBoostClassifier(iterations=300, learning_rate=0.1, depth=2, class_weights=class_weights)\n",
    "model.fit(X_train, y_train, cat_features=cat_col, eval_set=(X_valid, y_valid), verbose=False)"
   ]
  },
  {
   "cell_type": "code",
   "execution_count": 76,
   "metadata": {},
   "outputs": [
    {
     "data": {
      "text/plain": [
       "0.8107016095815475"
      ]
     },
     "execution_count": 76,
     "metadata": {},
     "output_type": "execute_result"
    }
   ],
   "source": [
    "roc_auc_score(y_train, model.predict_proba(X_train)[:, 1])"
   ]
  },
  {
   "cell_type": "code",
   "execution_count": 77,
   "metadata": {},
   "outputs": [
    {
     "data": {
      "text/plain": [
       "0.7453363770645898"
      ]
     },
     "execution_count": 77,
     "metadata": {},
     "output_type": "execute_result"
    }
   ],
   "source": [
    "roc_auc_score(y_valid, model.predict_proba(X_valid)[:, 1])"
   ]
  },
  {
   "cell_type": "code",
   "execution_count": 78,
   "metadata": {},
   "outputs": [],
   "source": [
    "ans = pd.DataFrame({'ID': data_test.ID,  'result': model.predict_proba(X_test)[:, 1]})\n",
    "ans.to_csv('kaggle.csv', index=False)\n",
    "# Качество на тесте 0.7145"
   ]
  },
  {
   "cell_type": "markdown",
   "metadata": {},
   "source": [
    "Третий вариант:"
   ]
  },
  {
   "cell_type": "code",
   "execution_count": 79,
   "metadata": {},
   "outputs": [
    {
     "data": {
      "text/plain": [
       "<catboost.core.CatBoostClassifier at 0x141fe1bfbb0>"
      ]
     },
     "execution_count": 79,
     "metadata": {},
     "output_type": "execute_result"
    }
   ],
   "source": [
    "class_weights = [all_ / (2 * not_churn), all_ / (2 * churn)]\n",
    "model = CatBoostClassifier(iterations=300, learning_rate=0.1, depth=2, class_weights=class_weights)\n",
    "model.fit(X_train, y_train, cat_features=cat_col, eval_set=(X_valid, y_valid), verbose=False)"
   ]
  },
  {
   "cell_type": "code",
   "execution_count": 80,
   "metadata": {
    "scrolled": true
   },
   "outputs": [
    {
     "data": {
      "text/plain": [
       "0.8131235305033186"
      ]
     },
     "execution_count": 80,
     "metadata": {},
     "output_type": "execute_result"
    }
   ],
   "source": [
    "roc_auc_score(y_train, model.predict_proba(X_train)[:, 1])"
   ]
  },
  {
   "cell_type": "code",
   "execution_count": 81,
   "metadata": {},
   "outputs": [
    {
     "data": {
      "text/plain": [
       "0.7489781119914058"
      ]
     },
     "execution_count": 81,
     "metadata": {},
     "output_type": "execute_result"
    }
   ],
   "source": [
    "roc_auc_score(y_valid, model.predict_proba(X_valid)[:, 1])"
   ]
  },
  {
   "cell_type": "code",
   "execution_count": 82,
   "metadata": {},
   "outputs": [],
   "source": [
    "ans = pd.DataFrame({'ID': data_test.ID,  'result': model.predict_proba(X_test)[:, 1]})\n",
    "ans.to_csv('kaggle.csv', index=False)\n",
    "# Качество на тесте 0.71557"
   ]
  },
  {
   "cell_type": "markdown",
   "metadata": {},
   "source": [
    "При разных вариантах задания весов качество классификации сильно не меняется. Однако третий вариант с точки зраения качества является самым оптимальным. В этом варианте реализован баланс классов как в sklearn.linear_model.LogisticRegression."
   ]
  },
  {
   "cell_type": "markdown",
   "metadata": {},
   "source": [
    "#### 2.2\\. Примените к выборке технологию undersampling: для этого нужно убрать из обучения некоторое количество объектов большего класса таким образом, чтобы соотношение классов изменилось. Попробуйте не менее трёх различных вариантов undersampling (варианты могут отличаться как по количество отфильтрованных объектов, так и по принципу выборка объектов для отсеивания из выборки). Меняются ли результаты классификации? Как это сказывается на качестве модели? Какой вариант выглядит наиболее оптимальным с точки зрения качества?"
   ]
  },
  {
   "cell_type": "markdown",
   "metadata": {
    "collapsed": true
   },
   "source": [
    "1 вариант (Random Undersampling)"
   ]
  },
  {
   "cell_type": "code",
   "execution_count": 25,
   "metadata": {},
   "outputs": [],
   "source": [
    "def undersampling(df):\n",
    "    y_1 = df[df.labels == 1] # клиенты класса \"отток\"\n",
    "    y_0 = df[df.labels == -1] # клиенты класса \"не отток\"\n",
    "    rand_ind = np.random.choice(y_0.index, churn) # рандомное сэмплирование ID клиентов класса \"не отток\" в количестве \n",
    "                                                  # равном числу клиентов класса \"отток\"\n",
    "    new_y_0 = y_0.loc[rand_ind] # выбранные рандомно клиенты класса \"не отток\"\n",
    "    return pd.concat([y_1, new_y_0], axis=0)"
   ]
  },
  {
   "cell_type": "code",
   "execution_count": 27,
   "metadata": {},
   "outputs": [
    {
     "data": {
      "text/plain": [
       "<catboost.core.CatBoostClassifier at 0x1ef0f8ca8e0>"
      ]
     },
     "execution_count": 27,
     "metadata": {},
     "output_type": "execute_result"
    }
   ],
   "source": [
    "X = undersampling(df_train).drop(['ID', 'labels'], axis=1)\n",
    "y = undersampling(df_train).labels\n",
    "X_train, X_valid, y_train, y_valid = train_test_split(X, y, test_size=0.2, stratify=y)\n",
    "model = CatBoostClassifier(iterations=300, learning_rate=0.1, depth=2)\n",
    "model.fit(X_train, y_train, cat_features=cat_col, eval_set=(X_valid, y_valid), verbose=False)"
   ]
  },
  {
   "cell_type": "code",
   "execution_count": 28,
   "metadata": {},
   "outputs": [
    {
     "data": {
      "text/plain": [
       "0.8849288965154594"
      ]
     },
     "execution_count": 28,
     "metadata": {},
     "output_type": "execute_result"
    }
   ],
   "source": [
    "roc_auc_score(y_train, model.predict_proba(X_train)[:, 1])"
   ]
  },
  {
   "cell_type": "code",
   "execution_count": 29,
   "metadata": {},
   "outputs": [
    {
     "data": {
      "text/plain": [
       "0.7399999999999998"
      ]
     },
     "execution_count": 29,
     "metadata": {},
     "output_type": "execute_result"
    }
   ],
   "source": [
    "roc_auc_score(y_valid, model.predict_proba(X_valid)[:, 1])"
   ]
  },
  {
   "cell_type": "code",
   "execution_count": 30,
   "metadata": {},
   "outputs": [],
   "source": [
    "ans = pd.DataFrame({'ID': data_test.ID,  'result': model.predict_proba(X_test)[:, 1]})\n",
    "ans.to_csv('kaggle.csv', index=False)\n",
    "# Качество на тесте получилось 0.69178"
   ]
  },
  {
   "attachments": {
    "image.png": {
     "image/png": "[encoded data removed]"
    }
   },
   "cell_type": "markdown",
   "metadata": {},
   "source": [
    "2 вариант (Поиск связей Томека)\n",
    "\n",
    "Метод состоит в поиске элементов противоположного класса на близком расстоянии. Это обеспечивает более точную классификацию.\n",
    "![image.png](attachment:image.png)"
   ]
  },
  {
   "cell_type": "code",
   "execution_count": 49,
   "metadata": {
    "scrolled": true
   },
   "outputs": [
    {
     "data": {
      "text/plain": [
       "<catboost.core.CatBoostClassifier at 0x1ef0f372910>"
      ]
     },
     "execution_count": 49,
     "metadata": {},
     "output_type": "execute_result"
    }
   ],
   "source": [
    "tl = TomekLinks(sampling_strategy='majority') # готовая реализация поиска связей Томека\n",
    "X = df_train.drop(['ID', 'labels'], axis=1)\n",
    "encoder = LabelEncoder()\n",
    "for column in cat_col:\n",
    "    X[column] = encoder.fit_transform(X[column]) # кодируем с помощью LabelEncoder категориальные признаки, так\n",
    "                                                 # как поиск связей Томека использует расстояние между векторами\n",
    "y = df_train.labels\n",
    "X_tl, y_tl = tl.fit_sample(X, y)\n",
    "X_train, X_valid, y_train, y_valid = train_test_split(X_tl, y_tl, test_size=0.2, stratify=y_tl)\n",
    "model = CatBoostClassifier(iterations=300, learning_rate=0.1, depth=2)\n",
    "model.fit(X_train, y_train, cat_features=cat_col, eval_set=(X_valid, y_valid), verbose=False)"
   ]
  },
  {
   "cell_type": "code",
   "execution_count": 50,
   "metadata": {},
   "outputs": [
    {
     "data": {
      "text/plain": [
       "0.7969085331332043"
      ]
     },
     "execution_count": 50,
     "metadata": {},
     "output_type": "execute_result"
    }
   ],
   "source": [
    "roc_auc_score(y_train, model.predict_proba(X_train)[:, 1])"
   ]
  },
  {
   "cell_type": "code",
   "execution_count": 51,
   "metadata": {},
   "outputs": [
    {
     "data": {
      "text/plain": [
       "0.7548158223455933"
      ]
     },
     "execution_count": 51,
     "metadata": {},
     "output_type": "execute_result"
    }
   ],
   "source": [
    "roc_auc_score(y_valid, model.predict_proba(X_valid)[:, 1])"
   ]
  },
  {
   "cell_type": "code",
   "execution_count": 54,
   "metadata": {},
   "outputs": [],
   "source": [
    "for column in cat_col:\n",
    "    X_test[column] = LabelEncoder().fit_transform(X_test[column])\n",
    "ans = pd.DataFrame({'ID': data_test.ID,  'result': model.predict_proba(X_test)[:, 1]})\n",
    "ans.to_csv('kaggle.csv', index=False)\n",
    "# Качество на тесте получилось 0.69332"
   ]
  },
  {
   "cell_type": "markdown",
   "metadata": {},
   "source": [
    "3 вариант (Односторонний сэмплинг)"
   ]
  },
  {
   "cell_type": "code",
   "execution_count": 80,
   "metadata": {},
   "outputs": [
    {
     "data": {
      "text/plain": [
       "<catboost.core.CatBoostClassifier at 0x1ef0ef9f820>"
      ]
     },
     "execution_count": 80,
     "metadata": {},
     "output_type": "execute_result"
    }
   ],
   "source": [
    "X = df_train.drop(['ID', 'labels'], axis=1)\n",
    "for column in cat_col:\n",
    "    X[column] = LabelEncoder().fit_transform(X[column])\n",
    "y = df_train.labels\n",
    "oss = OneSidedSelection(sampling_strategy='majority') # готовая реализация CNN\n",
    "X_oss, y_oss = oss.fit_sample(X, y)\n",
    "X_train, X_valid, y_train, y_valid = train_test_split(X_oss, y_oss, test_size=0.2, stratify=y_oss)\n",
    "model = CatBoostClassifier(iterations=300, learning_rate=0.1, depth=2)\n",
    "model.fit(X_train, y_train, cat_features=cat_col, eval_set=(X_valid, y_valid), verbose=False)"
   ]
  },
  {
   "cell_type": "code",
   "execution_count": 81,
   "metadata": {},
   "outputs": [
    {
     "data": {
      "text/plain": [
       "0.7861651348247674"
      ]
     },
     "execution_count": 81,
     "metadata": {},
     "output_type": "execute_result"
    }
   ],
   "source": [
    "roc_auc_score(y_train, model.predict_proba(X_train)[:, 1])"
   ]
  },
  {
   "cell_type": "code",
   "execution_count": 82,
   "metadata": {},
   "outputs": [
    {
     "data": {
      "text/plain": [
       "0.7220367640924386"
      ]
     },
     "execution_count": 82,
     "metadata": {},
     "output_type": "execute_result"
    }
   ],
   "source": [
    "roc_auc_score(y_valid, model.predict_proba(X_valid)[:, 1])"
   ]
  },
  {
   "cell_type": "code",
   "execution_count": 84,
   "metadata": {},
   "outputs": [],
   "source": [
    "ans = pd.DataFrame({'ID': data_test.ID,  'result': model.predict_proba(X_test)[:, 1]})\n",
    "ans.to_csv('kaggle.csv', index=False)\n",
    "# Качество на тесте получилось 0.68127"
   ]
  },
  {
   "cell_type": "markdown",
   "metadata": {},
   "source": [
    "При разных вариантах Undersampling результаты классификации сильно не меняются. Однако можно четко выделить метод поиска связей Томека, который дает лучшее качество на тестовой выборке. \n",
    "\n",
    "В целом задание весов на тестовой выборке дает качество лучше, чем Undersampling. Поэтому далее будем использовать задание весов."
   ]
  },
  {
   "cell_type": "markdown",
   "metadata": {},
   "source": [
    "### 3\\. Теперь перейдем к работе с признаками. Ранее вы реализовали несколько стратегий для обработки пропущенных значений. Сравните эти стратегии между собой с помощью оценки качества моделей кросс-валидации, построенных на датасетах с использованием различных стратегий. Как обработка пропущенных значений сказывается на качестве модели? Какой вариант выглядит наиболее оптимальным с точки зрения качества?\n",
    "В данной задаче нужно заполнить пропуска как для числовых, так и для категориальных. Ранее в предыдущих заданиях было рассмотрено множество различных способов обработки пропущенных значений. В данном блоке рассмотрю 2 способа заполнения пропусков у числовых признаков (нулевыми значениями и значениями, которые сильно отличаются от всех типичных значений признака) и 2 способа заполнения категориальных признаков (новая категория \"NA\" и самым частым значением в столбце). Комбинируя полученные способы, получится 4 варианта обработки пропущенных значений.\n",
    "\n",
    "Первый вариант: числовые признаки заполняются нулями, а категориальные новой категорией NA. Функция заполнения была написана выше."
   ]
  },
  {
   "cell_type": "code",
   "execution_count": 9,
   "metadata": {},
   "outputs": [],
   "source": [
    "class_weights = [all_ / (2 * not_churn), all_ / (2 * churn)]"
   ]
  },
  {
   "cell_type": "code",
   "execution_count": 88,
   "metadata": {
    "scrolled": true
   },
   "outputs": [
    {
     "name": "stdout",
     "output_type": "stream",
     "text": [
      "Площадь под ROC кривой 0.736024\n"
     ]
    }
   ],
   "source": [
    "model = CatBoostClassifier(iterations=300,\n",
    "                           learning_rate=0.1,\n",
    "                           depth=2,\n",
    "                           class_weights=class_weights,\n",
    "                           cat_features=cat_col,\n",
    "                           verbose=False)\n",
    "X = df_train.drop(['ID', 'labels'], axis=1)\n",
    "y = df_train.labels\n",
    "score = cross_val_score(model, X, y, scoring='roc_auc', cv=cv).mean()\n",
    "print('Площадь под ROC кривой %f' % score)"
   ]
  },
  {
   "cell_type": "code",
   "execution_count": 94,
   "metadata": {},
   "outputs": [],
   "source": [
    "X_train, X_valid, y_train, y_valid = train_test_split(X, y, test_size=0.2, stratify=y)\n",
    "model.fit(X_train, y_train, eval_set=(X_valid, y_valid))\n",
    "ans = pd.DataFrame({'ID': data_test.ID,  'result': model.predict_proba(X_test)[:, 1]})\n",
    "ans.to_csv('kaggle.csv', index=False)\n",
    "# Качество на тесте получилось 0.71595"
   ]
  },
  {
   "cell_type": "markdown",
   "metadata": {},
   "source": [
    "Второй вариант: числовые признаки заполняются нулями, а категориальные самым частым значением в столбце."
   ]
  },
  {
   "cell_type": "code",
   "execution_count": 7,
   "metadata": {},
   "outputs": [],
   "source": [
    "drop_col = data_train.count(axis=0)[data_train.count(axis=0) == 0].index # столбцы, у которых все значения пропущены"
   ]
  },
  {
   "cell_type": "code",
   "execution_count": 26,
   "metadata": {},
   "outputs": [],
   "source": [
    "data_train = data_train.drop(drop_col, axis=1)"
   ]
  },
  {
   "cell_type": "code",
   "execution_count": 148,
   "metadata": {},
   "outputs": [],
   "source": [
    "def fill_missing_values(df):\n",
    "    num_columns = [c for c in num_col if c in df.columns]\n",
    "    df_num = df[num_columns].fillna(0)\n",
    "    df_describe = df.describe(include=[object])\n",
    "    cat_columns = [c for c in cat_col if c in df.columns]\n",
    "    for c in cat_columns:\n",
    "        df[c] = df[c].fillna(df_describe[c]['top'])\n",
    "    X = pd.concat([df.ID, df_num, df[cat_columns]], axis=1)\n",
    "    return X"
   ]
  },
  {
   "cell_type": "code",
   "execution_count": 132,
   "metadata": {},
   "outputs": [],
   "source": [
    "X = fill_missing_values(data_train).drop(['ID'], axis=1)"
   ]
  },
  {
   "cell_type": "code",
   "execution_count": 12,
   "metadata": {},
   "outputs": [],
   "source": [
    "cat_columns = [c for c in cat_col if c in data_train.columns]"
   ]
  },
  {
   "cell_type": "code",
   "execution_count": 140,
   "metadata": {
    "scrolled": false
   },
   "outputs": [
    {
     "name": "stdout",
     "output_type": "stream",
     "text": [
      "Площадь под ROC кривой 0.732538\n"
     ]
    }
   ],
   "source": [
    "model = CatBoostClassifier(iterations=300,\n",
    "                           learning_rate=0.1,\n",
    "                           depth=2,\n",
    "                           class_weights=class_weights,\n",
    "                           cat_features=cat_columns,\n",
    "                           verbose=False)\n",
    "score = cross_val_score(model, X, y, scoring='roc_auc', cv=cv).mean()\n",
    "print('Площадь под ROC кривой %f' % score)"
   ]
  },
  {
   "cell_type": "code",
   "execution_count": 27,
   "metadata": {},
   "outputs": [],
   "source": [
    "data_test = data_test.drop(drop_col, axis=1)"
   ]
  },
  {
   "cell_type": "code",
   "execution_count": 144,
   "metadata": {},
   "outputs": [],
   "source": [
    "X_test = fill_missing_values(data_test).drop(['ID'], axis=1)"
   ]
  },
  {
   "cell_type": "code",
   "execution_count": 146,
   "metadata": {},
   "outputs": [],
   "source": [
    "X_train, X_valid, y_train, y_valid = train_test_split(X, y, test_size=0.2, stratify=y)\n",
    "model.fit(X_train, y_train, eval_set=(X_valid, y_valid))\n",
    "ans = pd.DataFrame({'ID': data_test.ID,  'result': model.predict_proba(X_test)[:, 1]})\n",
    "ans.to_csv('kaggle.csv', index=False)\n",
    "# Качество на тесте получилось 0.71331"
   ]
  },
  {
   "cell_type": "markdown",
   "metadata": {},
   "source": [
    "Третий вариант: числовые признаки заполняются значениями, которые сильно отличаются от всех типичных значений признака, а категориальные - новой категорией 'NA'."
   ]
  },
  {
   "cell_type": "code",
   "execution_count": 151,
   "metadata": {},
   "outputs": [],
   "source": [
    "def fill_missing_values_3(df):\n",
    "    num_columns = [c for c in num_col if c in df.columns]\n",
    "    df_num = df[num_columns].fillna(-99999999)\n",
    "    df_cat = df[cat_columns].fillna(\"NA\", axis=0)\n",
    "    X = pd.concat([df.ID, df_num, df_cat], axis=1)\n",
    "    return X"
   ]
  },
  {
   "cell_type": "code",
   "execution_count": 152,
   "metadata": {},
   "outputs": [],
   "source": [
    "X = fill_missing_values_3(data_train).drop(['ID'], axis=1)"
   ]
  },
  {
   "cell_type": "code",
   "execution_count": 158,
   "metadata": {},
   "outputs": [
    {
     "name": "stdout",
     "output_type": "stream",
     "text": [
      "Площадь под ROC кривой 0.733982\n"
     ]
    }
   ],
   "source": [
    "score = cross_val_score(model, X, y, scoring='roc_auc', cv=cv).mean()\n",
    "print('Площадь под ROC кривой %f' % score)"
   ]
  },
  {
   "cell_type": "code",
   "execution_count": 159,
   "metadata": {},
   "outputs": [],
   "source": [
    "X_test = fill_missing_values_3(data_test).drop(['ID'], axis=1)\n",
    "X_train, X_valid, y_train, y_valid = train_test_split(X, y, test_size=0.2, stratify=y)\n",
    "model.fit(X_train, y_train, eval_set=(X_valid, y_valid))\n",
    "ans = pd.DataFrame({'ID': data_test.ID,  'result': model.predict_proba(X_test)[:, 1]})\n",
    "ans.to_csv('kaggle.csv', index=False)\n",
    "# Качество на тесте получилось 0.7085"
   ]
  },
  {
   "cell_type": "markdown",
   "metadata": {},
   "source": [
    "Четвертый вариант: числовые признаки заполняются значениями, которые сильно отличаются от всех типичных значений признака, а категориальные - самым частым значением в столбце "
   ]
  },
  {
   "cell_type": "code",
   "execution_count": 160,
   "metadata": {},
   "outputs": [],
   "source": [
    "def fill_missing_values_4(df):\n",
    "    num_columns = [c for c in num_col if c in df.columns]\n",
    "    df_num = df[num_columns].fillna(-99999999)\n",
    "    df_describe = df.describe(include=[object])\n",
    "    for c in cat_columns:\n",
    "        df[c] = df[c].fillna(df_describe[c]['top'])\n",
    "    X = pd.concat([df.ID, df_num, df[cat_columns]], axis=1)\n",
    "    return X"
   ]
  },
  {
   "cell_type": "code",
   "execution_count": 161,
   "metadata": {},
   "outputs": [
    {
     "name": "stdout",
     "output_type": "stream",
     "text": [
      "Площадь под ROC кривой 0.730247\n"
     ]
    }
   ],
   "source": [
    "X = fill_missing_values_4(data_train).drop(['ID'], axis=1)\n",
    "score = cross_val_score(model, X, y, scoring='roc_auc', cv=cv).mean()\n",
    "print('Площадь под ROC кривой %f' % score)"
   ]
  },
  {
   "cell_type": "code",
   "execution_count": 162,
   "metadata": {},
   "outputs": [],
   "source": [
    "X_test = fill_missing_values_4(data_test).drop(['ID'], axis=1)\n",
    "X_train, X_valid, y_train, y_valid = train_test_split(X, y, test_size=0.2, stratify=y)\n",
    "model.fit(X_train, y_train, eval_set=(X_valid, y_valid))\n",
    "ans = pd.DataFrame({'ID': data_test.ID,  'result': model.predict_proba(X_test)[:, 1]})\n",
    "ans.to_csv('kaggle.csv', index=False)\n",
    "# Качество на тесте получилось 0.70750"
   ]
  },
  {
   "cell_type": "markdown",
   "metadata": {},
   "source": [
    "Разная обработка пропущенных значений дала разный результат на 3-м знаке после запятой. С точки зрения качества наиболее оптимальный результат дал первый вариант, то есть необходимо заполнить числовые признаки нулевыми значениями, а категориальные как отдельную категорию \"NA\"."
   ]
  },
  {
   "cell_type": "markdown",
   "metadata": {},
   "source": [
    "### 4\\. Также вы уже реализовали несколько стратегий для обработки категориальных признаков. Сравните эти стратегии между собой с помощью оценки качества моделей по кросс-валидации, построенных на датасетах с использованием различных стратегий. Как обработка категориальных признаков сказывается на качестве модели? Какой вариант выглядит наиболее оптимальным с точки зрения качества?\n",
    "Варианты обработки категориальных признаков, также были проделаны ранее. Поэтому в данном блоке я рассмотрю 2 вида обработки категориальных признаков. Первый: заменим значения категориального признака на его долю объектов класса +1 среди объектов выборки с соответствующим значением этого признака. Второй: черный ящик (так как пользуемся CatBoostClassifier, то обработка категориальных признаков уже заложена в алгоритм). \n",
    "\n",
    "Первый вариант:"
   ]
  },
  {
   "cell_type": "code",
   "execution_count": 192,
   "metadata": {},
   "outputs": [],
   "source": [
    "class preparation_ensemble():\n",
    "    def __init__(self):\n",
    "        pass\n",
    "    def preprocess(self, df):\n",
    "        df = self.fill_missing_values(df)\n",
    "        df = self.cat_preprocess(df)\n",
    "        return df\n",
    "    def fill_missing_values(self, df):\n",
    "        num_columns = [c for c in num_col if c in df.columns]\n",
    "        df_num = df[num_columns].fillna(0)\n",
    "        df_cat = df[cat_columns].fillna(\"NA\", axis=0)\n",
    "        df = pd.concat([df.ID, df_num, df_cat, df.labels], axis=1)\n",
    "        return df\n",
    "    def cat_preprocess(self, df):\n",
    "        new_cat_col = [column for column in df.columns if column in cat_col]\n",
    "        for column in new_cat_col: # цикл по категориальным признакам\n",
    "            for feature in df[column].value_counts().index: # цикл по каждому значению категориального признака\n",
    "                strings = df[df[column] == feature].index\n",
    "                df.loc[strings, column] = len(df[(df[column] == feature) & (df.labels == 1)]) / len(strings)\n",
    "        return df"
   ]
  },
  {
   "cell_type": "code",
   "execution_count": 204,
   "metadata": {},
   "outputs": [],
   "source": [
    "data = pd.concat([data_train, data_test], ignore_index=True)"
   ]
  },
  {
   "cell_type": "code",
   "execution_count": 206,
   "metadata": {
    "scrolled": true
   },
   "outputs": [
    {
     "data": {
      "text/html": [
       "<div>\n",
       "<style scoped>\n",
       "    .dataframe tbody tr th:only-of-type {\n",
       "        vertical-align: middle;\n",
       "    }\n",
       "\n",
       "    .dataframe tbody tr th {\n",
       "        vertical-align: top;\n",
       "    }\n",
       "\n",
       "    .dataframe thead th {\n",
       "        text-align: right;\n",
       "    }\n",
       "</style>\n",
       "<table border=\"1\" class=\"dataframe\">\n",
       "  <thead>\n",
       "    <tr style=\"text-align: right;\">\n",
       "      <th></th>\n",
       "      <th>ID</th>\n",
       "      <th>Var1</th>\n",
       "      <th>Var2</th>\n",
       "      <th>Var3</th>\n",
       "      <th>Var4</th>\n",
       "      <th>Var5</th>\n",
       "      <th>Var6</th>\n",
       "      <th>Var7</th>\n",
       "      <th>Var9</th>\n",
       "      <th>Var10</th>\n",
       "      <th>...</th>\n",
       "      <th>Var221</th>\n",
       "      <th>Var222</th>\n",
       "      <th>Var223</th>\n",
       "      <th>Var224</th>\n",
       "      <th>Var225</th>\n",
       "      <th>Var226</th>\n",
       "      <th>Var227</th>\n",
       "      <th>Var228</th>\n",
       "      <th>Var229</th>\n",
       "      <th>labels</th>\n",
       "    </tr>\n",
       "  </thead>\n",
       "  <tbody>\n",
       "    <tr>\n",
       "      <th>0</th>\n",
       "      <td>0</td>\n",
       "      <td>0.0</td>\n",
       "      <td>0.0</td>\n",
       "      <td>0.0</td>\n",
       "      <td>0.0</td>\n",
       "      <td>0.0</td>\n",
       "      <td>3052.0</td>\n",
       "      <td>0.0</td>\n",
       "      <td>0.0</td>\n",
       "      <td>0.0</td>\n",
       "      <td>...</td>\n",
       "      <td>0.0469584</td>\n",
       "      <td>0</td>\n",
       "      <td>0.0492018</td>\n",
       "      <td>0.0486607</td>\n",
       "      <td>0.0507952</td>\n",
       "      <td>0.0542582</td>\n",
       "      <td>0.0412214</td>\n",
       "      <td>0.0416157</td>\n",
       "      <td>0.0513996</td>\n",
       "      <td>-1.0</td>\n",
       "    </tr>\n",
       "    <tr>\n",
       "      <th>1</th>\n",
       "      <td>1</td>\n",
       "      <td>0.0</td>\n",
       "      <td>0.0</td>\n",
       "      <td>0.0</td>\n",
       "      <td>0.0</td>\n",
       "      <td>0.0</td>\n",
       "      <td>1813.0</td>\n",
       "      <td>7.0</td>\n",
       "      <td>0.0</td>\n",
       "      <td>0.0</td>\n",
       "      <td>...</td>\n",
       "      <td>0.0527976</td>\n",
       "      <td>0</td>\n",
       "      <td>0.0492018</td>\n",
       "      <td>0.0486607</td>\n",
       "      <td>0.0507952</td>\n",
       "      <td>0.0455718</td>\n",
       "      <td>0.0540989</td>\n",
       "      <td>0.0283745</td>\n",
       "      <td>0.0377155</td>\n",
       "      <td>-1.0</td>\n",
       "    </tr>\n",
       "    <tr>\n",
       "      <th>2</th>\n",
       "      <td>2</td>\n",
       "      <td>0.0</td>\n",
       "      <td>0.0</td>\n",
       "      <td>0.0</td>\n",
       "      <td>0.0</td>\n",
       "      <td>0.0</td>\n",
       "      <td>1953.0</td>\n",
       "      <td>7.0</td>\n",
       "      <td>0.0</td>\n",
       "      <td>0.0</td>\n",
       "      <td>...</td>\n",
       "      <td>0.0404789</td>\n",
       "      <td>0.0264404</td>\n",
       "      <td>0.0492018</td>\n",
       "      <td>0.0486607</td>\n",
       "      <td>0.0507952</td>\n",
       "      <td>0.0586555</td>\n",
       "      <td>0.0298765</td>\n",
       "      <td>0.0265372</td>\n",
       "      <td>0.0377155</td>\n",
       "      <td>-1.0</td>\n",
       "    </tr>\n",
       "    <tr>\n",
       "      <th>3</th>\n",
       "      <td>3</td>\n",
       "      <td>0.0</td>\n",
       "      <td>0.0</td>\n",
       "      <td>0.0</td>\n",
       "      <td>0.0</td>\n",
       "      <td>0.0</td>\n",
       "      <td>1533.0</td>\n",
       "      <td>7.0</td>\n",
       "      <td>0.0</td>\n",
       "      <td>0.0</td>\n",
       "      <td>...</td>\n",
       "      <td>0.0527976</td>\n",
       "      <td>0.142857</td>\n",
       "      <td>0.0492018</td>\n",
       "      <td>0.0486607</td>\n",
       "      <td>0.0507952</td>\n",
       "      <td>0.0455718</td>\n",
       "      <td>0.0540989</td>\n",
       "      <td>0.0566405</td>\n",
       "      <td>0.0513996</td>\n",
       "      <td>1.0</td>\n",
       "    </tr>\n",
       "    <tr>\n",
       "      <th>4</th>\n",
       "      <td>4</td>\n",
       "      <td>0.0</td>\n",
       "      <td>0.0</td>\n",
       "      <td>0.0</td>\n",
       "      <td>0.0</td>\n",
       "      <td>0.0</td>\n",
       "      <td>686.0</td>\n",
       "      <td>7.0</td>\n",
       "      <td>0.0</td>\n",
       "      <td>0.0</td>\n",
       "      <td>...</td>\n",
       "      <td>0.0527976</td>\n",
       "      <td>0</td>\n",
       "      <td>0.0492018</td>\n",
       "      <td>0.0486607</td>\n",
       "      <td>0.0507952</td>\n",
       "      <td>0.0466387</td>\n",
       "      <td>0.0540989</td>\n",
       "      <td>0.0566405</td>\n",
       "      <td>0.0513996</td>\n",
       "      <td>-1.0</td>\n",
       "    </tr>\n",
       "  </tbody>\n",
       "</table>\n",
       "<p>5 rows × 214 columns</p>\n",
       "</div>"
      ],
      "text/plain": [
       "   ID  Var1  Var2  Var3  Var4  Var5    Var6  Var7  Var9  Var10  ...  \\\n",
       "0   0   0.0   0.0   0.0   0.0   0.0  3052.0   0.0   0.0    0.0  ...   \n",
       "1   1   0.0   0.0   0.0   0.0   0.0  1813.0   7.0   0.0    0.0  ...   \n",
       "2   2   0.0   0.0   0.0   0.0   0.0  1953.0   7.0   0.0    0.0  ...   \n",
       "3   3   0.0   0.0   0.0   0.0   0.0  1533.0   7.0   0.0    0.0  ...   \n",
       "4   4   0.0   0.0   0.0   0.0   0.0   686.0   7.0   0.0    0.0  ...   \n",
       "\n",
       "      Var221     Var222     Var223     Var224     Var225     Var226  \\\n",
       "0  0.0469584          0  0.0492018  0.0486607  0.0507952  0.0542582   \n",
       "1  0.0527976          0  0.0492018  0.0486607  0.0507952  0.0455718   \n",
       "2  0.0404789  0.0264404  0.0492018  0.0486607  0.0507952  0.0586555   \n",
       "3  0.0527976   0.142857  0.0492018  0.0486607  0.0507952  0.0455718   \n",
       "4  0.0527976          0  0.0492018  0.0486607  0.0507952  0.0466387   \n",
       "\n",
       "      Var227     Var228     Var229  labels  \n",
       "0  0.0412214  0.0416157  0.0513996    -1.0  \n",
       "1  0.0540989  0.0283745  0.0377155    -1.0  \n",
       "2  0.0298765  0.0265372  0.0377155    -1.0  \n",
       "3  0.0540989  0.0566405  0.0513996     1.0  \n",
       "4  0.0540989  0.0566405  0.0513996    -1.0  \n",
       "\n",
       "[5 rows x 214 columns]"
      ]
     },
     "execution_count": 206,
     "metadata": {},
     "output_type": "execute_result"
    }
   ],
   "source": [
    "data_preparation = preparation_ensemble()\n",
    "df = data_preparation.preprocess(data)\n",
    "df.head()"
   ]
  },
  {
   "cell_type": "code",
   "execution_count": 222,
   "metadata": {},
   "outputs": [],
   "source": [
    "X = df[:18298].drop(['ID', 'labels'], axis=1)\n",
    "df_test = df[18298:]\n",
    "X_test = df_test.drop(['ID', 'labels'], axis=1)"
   ]
  },
  {
   "cell_type": "code",
   "execution_count": 223,
   "metadata": {},
   "outputs": [
    {
     "name": "stdout",
     "output_type": "stream",
     "text": [
      "Площадь под ROC кривой 0.994122\n"
     ]
    }
   ],
   "source": [
    "model = CatBoostClassifier(iterations=300,\n",
    "                           learning_rate=0.1,\n",
    "                           depth=2,\n",
    "                           class_weights=class_weights,\n",
    "                           verbose=False)\n",
    "score = cross_val_score(model, X, y, scoring='roc_auc', cv=cv).mean()\n",
    "print('Площадь под ROC кривой %f' % score)"
   ]
  },
  {
   "cell_type": "code",
   "execution_count": 226,
   "metadata": {},
   "outputs": [],
   "source": [
    "X_train, X_valid, y_train, y_valid = train_test_split(X, y, test_size=0.2, stratify=y)\n",
    "model.fit(X_train, y_train, eval_set=(X_valid, y_valid))\n",
    "ans = pd.DataFrame({'ID': data_test.ID,  'result': model.predict_proba(X_test)[:, 1]})\n",
    "ans.to_csv('kaggle.csv', index=False)\n",
    "# Качество на тесте получилось 0.60921"
   ]
  },
  {
   "cell_type": "markdown",
   "metadata": {},
   "source": [
    "Второй вариант"
   ]
  },
  {
   "cell_type": "code",
   "execution_count": 10,
   "metadata": {},
   "outputs": [],
   "source": [
    "def fill_missing_values(df):\n",
    "    num_columns = [c for c in num_col if c in df.columns]\n",
    "    df_num = df[num_columns].fillna(0)\n",
    "    df_cat = df[cat_columns].fillna(\"NA\", axis=0)\n",
    "    X = pd.concat([df_num, df_cat], axis=1)\n",
    "    return X"
   ]
  },
  {
   "cell_type": "code",
   "execution_count": 13,
   "metadata": {},
   "outputs": [],
   "source": [
    "X = fill_missing_values(data_train)\n",
    "X_test = fill_missing_values(data_test)"
   ]
  },
  {
   "cell_type": "code",
   "execution_count": 235,
   "metadata": {},
   "outputs": [
    {
     "name": "stdout",
     "output_type": "stream",
     "text": [
      "Площадь под ROC кривой 0.734495\n"
     ]
    }
   ],
   "source": [
    "model = CatBoostClassifier(iterations=300,\n",
    "                           learning_rate=0.1,\n",
    "                           depth=2,\n",
    "                           class_weights=class_weights,\n",
    "                           cat_features=cat_columns,\n",
    "                           verbose=False)\n",
    "score = cross_val_score(model, X, y, scoring='roc_auc', cv=cv).mean()\n",
    "print('Площадь под ROC кривой %f' % score)"
   ]
  },
  {
   "cell_type": "code",
   "execution_count": 236,
   "metadata": {},
   "outputs": [],
   "source": [
    "X_train, X_valid, y_train, y_valid = train_test_split(X, y, test_size=0.2, stratify=y)\n",
    "model.fit(X_train, y_train, eval_set=(X_valid, y_valid))\n",
    "ans = pd.DataFrame({'ID': data_test.ID,  'result': model.predict_proba(X_test)[:, 1]})\n",
    "ans.to_csv('kaggle.csv', index=False)\n",
    "# Качество на тесте получилось 0.70782"
   ]
  },
  {
   "cell_type": "markdown",
   "metadata": {},
   "source": [
    "Кросс-валидация на первом варианте безбожно врет. В данной задаче обработка категориальных признаков является ключевой, потому что ранее было замечено, что при разной обработке категориальных признаков качество классификации очень сильно варьировалось. Поэтому с точки зрения качества самым оптимальным вариантов будет использование готовой реализации с помощью библиотеки catboost."
   ]
  },
  {
   "cell_type": "markdown",
   "metadata": {},
   "source": [
    "### 5\\. Все ли признаки оказались полезными для построения моделей? Проведите процедуру отбора признаков, попробуйте разные варианты отбора (обратите внимание на модуль sklearn.feature_selection). Например, можно выбрасывать случайные признаки или строить отбор на основе l1-регуляризации - отфильтровать из обучения признаки, которые получат нулевой вес при построении регрессии с l1-регуляризацией (sklearn.linear_model.Lasso). И всегда можно придумать что-то своё=) Попробуйте как минимум 2 различные стратегии, сравните результаты. Помог ли отбор признаков улучшить качество модели? Поясните свой ответ.\n",
    "Отвечая на первый вопрос, уже можно ответить отрицательно. Так как 18 признаков имели пропущенные значения на всех объектах, и их можно сразу же удалить. В данном блоке будет использовано 2 стратегии отбора признаков. Первая: удалить признаки, у которых более 50% пропусков. Вторая: удалить те признаки, дисперсия которых не превосходит 0,8.\n",
    "\n",
    "Первая стратегия:"
   ]
  },
  {
   "cell_type": "code",
   "execution_count": 250,
   "metadata": {},
   "outputs": [],
   "source": [
    "drop_columns = data_train.count(axis=0)[data_train.count(axis=0) < 9114].index # признаки, у которых более 50% пропусков"
   ]
  },
  {
   "cell_type": "code",
   "execution_count": 259,
   "metadata": {},
   "outputs": [],
   "source": [
    "class preparation_ensemble():\n",
    "    def __init__(self):\n",
    "        pass\n",
    "    def preprocess(self, df):\n",
    "        df = self.drop(df)\n",
    "        df = self.fill_missing_values(df)\n",
    "        return df\n",
    "    def drop(self, df):\n",
    "        df = df.drop(drop_columns, axis=1) # удаление признаков, у которых более 50% пропущенных значений\n",
    "        return df\n",
    "    def fill_missing_values(self, df):\n",
    "        num_columns = [c for c in num_col if c in df.columns]\n",
    "        df_num = df[num_columns].fillna(0)\n",
    "        df_cat = df[cat_columns].fillna(\"NA\", axis=0)\n",
    "        df = pd.concat([df.ID, df_num, df_cat], axis=1)\n",
    "        return df"
   ]
  },
  {
   "cell_type": "code",
   "execution_count": 260,
   "metadata": {},
   "outputs": [],
   "source": [
    "data_preparation = preparation_ensemble()\n",
    "df = data_preparation.preprocess(data_train)"
   ]
  },
  {
   "cell_type": "code",
   "execution_count": 261,
   "metadata": {},
   "outputs": [],
   "source": [
    "X = df.drop(['ID'], axis=1)"
   ]
  },
  {
   "cell_type": "code",
   "execution_count": 262,
   "metadata": {},
   "outputs": [],
   "source": [
    "X_test = data_preparation.preprocess(data_test).drop(['ID'], axis=1)"
   ]
  },
  {
   "cell_type": "code",
   "execution_count": 265,
   "metadata": {},
   "outputs": [],
   "source": [
    "cat_features = [c for c in X.columns if c in cat_col]\n",
    "model = CatBoostClassifier(iterations=300,\n",
    "                           learning_rate=0.1,\n",
    "                           depth=2,\n",
    "                           class_weights=class_weights,\n",
    "                           cat_features=cat_features,\n",
    "                           verbose=False)\n",
    "X_train, X_valid, y_train, y_valid = train_test_split(X, y, test_size=0.2, stratify=y)\n",
    "model.fit(X_train, y_train, eval_set=(X_valid, y_valid))\n",
    "ans = pd.DataFrame({'ID': data_test.ID,  'result': model.predict_proba(X_test)[:, 1]})\n",
    "ans.to_csv('kaggle.csv', index=False)\n",
    "# Качество на тесте получилось 0.70477"
   ]
  },
  {
   "cell_type": "markdown",
   "metadata": {},
   "source": [
    "Вторая стратегия:"
   ]
  },
  {
   "cell_type": "code",
   "execution_count": 68,
   "metadata": {},
   "outputs": [],
   "source": [
    "X = fill_missing_values(data_train)\n",
    "X_test = fill_missing_values(data_test)"
   ]
  },
  {
   "cell_type": "code",
   "execution_count": 76,
   "metadata": {},
   "outputs": [],
   "source": [
    "X_full = pd.concat([X, X_test], ignore_index=True)"
   ]
  },
  {
   "cell_type": "code",
   "execution_count": 79,
   "metadata": {},
   "outputs": [],
   "source": [
    "for column in cat_features:\n",
    "    X_full[column] = LabelEncoder().fit_transform(X_full[column])"
   ]
  },
  {
   "cell_type": "code",
   "execution_count": 82,
   "metadata": {},
   "outputs": [],
   "source": [
    "X = X_full.iloc[:len(X)]\n",
    "X_test = X_full.iloc[len(X):]"
   ]
  },
  {
   "cell_type": "code",
   "execution_count": 85,
   "metadata": {},
   "outputs": [],
   "source": [
    "sel = VarianceThreshold(threshold=0.8)\n",
    "X = sel.fit_transform(X)\n",
    "X_test = sel.transform(X_test)"
   ]
  },
  {
   "cell_type": "code",
   "execution_count": 93,
   "metadata": {},
   "outputs": [],
   "source": [
    "model = CatBoostClassifier(iterations=300,\n",
    "                           learning_rate=0.1,\n",
    "                           depth=2,\n",
    "                           class_weights=class_weights,\n",
    "                           verbose=False)"
   ]
  },
  {
   "cell_type": "code",
   "execution_count": 94,
   "metadata": {},
   "outputs": [],
   "source": [
    "X_train, X_valid, y_train, y_valid = train_test_split(X, y, test_size=0.2, stratify=y)\n",
    "model.fit(X_train, y_train, eval_set=(X_valid, y_valid))\n",
    "ans = pd.DataFrame({'ID': data_test.ID,  'result': model.predict_proba(X_test)[:, 1]})\n",
    "ans.to_csv('kaggle.csv', index=False)\n",
    "# Качество на тесте получилось 0.68152"
   ]
  },
  {
   "cell_type": "markdown",
   "metadata": {},
   "source": [
    "С помощью отбора признаков улучшить качество классификации не удалось. Скорее всего, CatBoostLassifier способен извлечь нелинейные зависимости из, на первый взгляд, даже ненужных признаков."
   ]
  },
  {
   "cell_type": "markdown",
   "metadata": {},
   "source": [
    "### 6\\. Подберите оптимальные параметры модели. Обратите внимание, что в зависимости от того, как вы обработали исходные данные, сделали ли балансировку классов, сколько объектов оставили в обучающей выборке и др. оптимальные значения параметров могут меняться. Возьмите наилучшее из ваших решений на текущий момент и проведите процедуру подбора параметров модели (обратите внимание на sklearn.model_selection.GridSearchCV) Как подбор параметров повлиял на качество модели?"
   ]
  },
  {
   "cell_type": "code",
   "execution_count": 96,
   "metadata": {},
   "outputs": [],
   "source": [
    "X = fill_missing_values(data_train)\n",
    "X_test = fill_missing_values(data_test)"
   ]
  },
  {
   "cell_type": "code",
   "execution_count": 202,
   "metadata": {},
   "outputs": [],
   "source": [
    "model = CatBoostClassifier(iterations=300,\n",
    "                           learning_rate=0.1,\n",
    "                           depth=2,\n",
    "                           class_weights=class_weights,\n",
    "                           cat_features=cat_features,\n",
    "                           verbose=False)"
   ]
  },
  {
   "cell_type": "code",
   "execution_count": 203,
   "metadata": {},
   "outputs": [
    {
     "data": {
      "text/plain": [
       "<catboost.core.CatBoostClassifier at 0x19d0118efd0>"
      ]
     },
     "execution_count": 203,
     "metadata": {},
     "output_type": "execute_result"
    }
   ],
   "source": [
    "X_train, X_valid, y_train, y_valid = train_test_split(X, y, test_size=0.2, stratify=y)\n",
    "model.fit(X_train, y_train, eval_set=(X_valid, y_valid))"
   ]
  },
  {
   "cell_type": "code",
   "execution_count": 105,
   "metadata": {
    "scrolled": false
   },
   "outputs": [
    {
     "data": {
      "text/plain": [
       "124"
      ]
     },
     "execution_count": 105,
     "metadata": {},
     "output_type": "execute_result"
    }
   ],
   "source": [
    "model.tree_count_ # данный атрибут показывает какое количество деревьев дает лучшее качество"
   ]
  },
  {
   "cell_type": "code",
   "execution_count": 107,
   "metadata": {},
   "outputs": [],
   "source": [
    "param_grid = {'learning_rate': [0.01, 0.1, 1], 'class_weights': [class_weights, None], 'depth': [2, 3, 4]}"
   ]
  },
  {
   "cell_type": "code",
   "execution_count": 108,
   "metadata": {},
   "outputs": [],
   "source": [
    "opt = GridSearchCV(model, param_grid=param_grid, scoring='roc_auc', n_jobs=-1, cv=cv)"
   ]
  },
  {
   "cell_type": "code",
   "execution_count": 109,
   "metadata": {},
   "outputs": [
    {
     "data": {
      "text/plain": [
       "GridSearchCV(cv=StratifiedKFold(n_splits=5, random_state=None, shuffle=True),\n",
       "             estimator=<catboost.core.CatBoostClassifier object at 0x0000019D03C77BB0>,\n",
       "             n_jobs=-1,\n",
       "             param_grid={'class_weights': [[0.5406890845694698,\n",
       "                                            6.644153957879448],\n",
       "                                           None],\n",
       "                         'depth': [2, 3, 4], 'learning_rate': [0.01, 0.1, 1]},\n",
       "             scoring='roc_auc')"
      ]
     },
     "execution_count": 109,
     "metadata": {},
     "output_type": "execute_result"
    }
   ],
   "source": [
    "opt.fit(X, y)"
   ]
  },
  {
   "cell_type": "code",
   "execution_count": 110,
   "metadata": {},
   "outputs": [
    {
     "data": {
      "text/plain": [
       "{'class_weights': [0.5406890845694698, 6.644153957879448],\n",
       " 'depth': 2,\n",
       " 'learning_rate': 0.1}"
      ]
     },
     "execution_count": 110,
     "metadata": {},
     "output_type": "execute_result"
    }
   ],
   "source": [
    "opt.best_params_"
   ]
  },
  {
   "cell_type": "code",
   "execution_count": 111,
   "metadata": {},
   "outputs": [],
   "source": [
    "ans = pd.DataFrame({'ID': data_test.ID,  'result': opt.predict_proba(X_test)[:, 1]})\n",
    "ans.to_csv('kaggle.csv', index=False)\n",
    "# Качество на тесте получилось 0.723"
   ]
  },
  {
   "cell_type": "markdown",
   "metadata": {},
   "source": [
    "Подбор параметров на качество классификации повлиял положительно. Оптимальными параметрами для CatBoostClassifier будут depth=2 и learning_rate=0.1"
   ]
  },
  {
   "cell_type": "markdown",
   "metadata": {},
   "source": [
    "### 7\\. Предложите методику оценки того, какие признаки внесли наибольший вклад в модель (например, это могут быть веса в случае регрессии, а также большое количество моделей реализуют метод feature_importances_ - оценка важности признаков). На основе предложенной методики проанализируйте, какие признаки внесли больший вклад в модель, а какие меньший?"
   ]
  },
  {
   "cell_type": "code",
   "execution_count": 204,
   "metadata": {},
   "outputs": [],
   "source": [
    "importances = model.feature_importances_\n",
    "indices = np.argsort(importances)[::-1] # сортировка по убыванию важности"
   ]
  },
  {
   "cell_type": "code",
   "execution_count": 122,
   "metadata": {
    "scrolled": false
   },
   "outputs": [
    {
     "data": {
      "image/png": "[encoded data removed]",
      "text/plain": [
       "<Figure size 576x576 with 1 Axes>"
      ]
     },
     "metadata": {
      "needs_background": "light"
     },
     "output_type": "display_data"
    }
   ],
   "source": [
    "d_first = 20\n",
    "plt.figure(figsize=(8, 8))\n",
    "plt.title(\"20 наиболее важных признаков\")\n",
    "plt.bar(range(d_first), importances[indices[:d_first]], align='center')\n",
    "plt.xticks(range(d_first), np.array(X.columns)[indices[:d_first]], rotation=90)\n",
    "plt.xlim([-1, d_first]);"
   ]
  },
  {
   "cell_type": "markdown",
   "metadata": {},
   "source": [
    "При нахождении наименее важных признаков обнаружил, что есть признаки, которые не вносят никакого вклада в модель. Попробуем удалить эти признаки и проверить качество классификации."
   ]
  },
  {
   "cell_type": "code",
   "execution_count": 137,
   "metadata": {},
   "outputs": [
    {
     "name": "stdout",
     "output_type": "stream",
     "text": [
      "Число признаков, которые вносят ненулевой вклад в модель 98\n"
     ]
    }
   ],
   "source": [
    "print('Число признаков, которые вносят ненулевой вклад в модель', (importances != 0).sum())"
   ]
  },
  {
   "cell_type": "code",
   "execution_count": 138,
   "metadata": {},
   "outputs": [],
   "source": [
    "important_features = X.columns[indices[:98]]"
   ]
  },
  {
   "cell_type": "code",
   "execution_count": 144,
   "metadata": {},
   "outputs": [],
   "source": [
    "new_X = X[important_features]"
   ]
  },
  {
   "cell_type": "code",
   "execution_count": 147,
   "metadata": {},
   "outputs": [],
   "source": [
    "cat_features = [c for c in new_X.columns if c in cat_col]"
   ]
  },
  {
   "cell_type": "code",
   "execution_count": 148,
   "metadata": {},
   "outputs": [],
   "source": [
    "model = CatBoostClassifier(iterations=300,\n",
    "                           learning_rate=0.1,\n",
    "                           depth=2,\n",
    "                           cat_features=cat_features,\n",
    "                           verbose=False)"
   ]
  },
  {
   "cell_type": "code",
   "execution_count": 149,
   "metadata": {},
   "outputs": [],
   "source": [
    "opt = GridSearchCV(model, param_grid={'class_weights': [class_weights, None]}, scoring='roc_auc', n_jobs=-1, cv=cv)"
   ]
  },
  {
   "cell_type": "code",
   "execution_count": 150,
   "metadata": {},
   "outputs": [
    {
     "data": {
      "text/plain": [
       "GridSearchCV(cv=StratifiedKFold(n_splits=5, random_state=None, shuffle=True),\n",
       "             estimator=<catboost.core.CatBoostClassifier object at 0x0000019D01D805B0>,\n",
       "             n_jobs=-1,\n",
       "             param_grid={'class_weights': [[0.5406890845694698,\n",
       "                                            6.644153957879448],\n",
       "                                           None]},\n",
       "             scoring='roc_auc')"
      ]
     },
     "execution_count": 150,
     "metadata": {},
     "output_type": "execute_result"
    }
   ],
   "source": [
    "opt.fit(new_X, y)"
   ]
  },
  {
   "cell_type": "code",
   "execution_count": 151,
   "metadata": {},
   "outputs": [
    {
     "data": {
      "text/plain": [
       "{'class_weights': [0.5406890845694698, 6.644153957879448]}"
      ]
     },
     "execution_count": 151,
     "metadata": {},
     "output_type": "execute_result"
    }
   ],
   "source": [
    "opt.best_params_"
   ]
  },
  {
   "cell_type": "code",
   "execution_count": 153,
   "metadata": {},
   "outputs": [],
   "source": [
    "new_X_test = X_test[important_features]"
   ]
  },
  {
   "cell_type": "code",
   "execution_count": 154,
   "metadata": {},
   "outputs": [],
   "source": [
    "ans = pd.DataFrame({'ID': data_test.ID,  'result': opt.predict_proba(new_X_test)[:, 1]})\n",
    "ans.to_csv('kaggle.csv', index=False)\n",
    "# Качество на тесте получилось 0.72098"
   ]
  },
  {
   "cell_type": "markdown",
   "metadata": {},
   "source": [
    "Качество на тесте получилось хуже."
   ]
  },
  {
   "cell_type": "code",
   "execution_count": 161,
   "metadata": {
    "scrolled": false
   },
   "outputs": [
    {
     "name": "stdout",
     "output_type": "stream",
     "text": [
      "Признаки, которые имеют нулевой вес:\n",
      "Var66, Var67, Var68, Var69, Var37, Var14, Var70, Var71, Var17, Var62, Var11, Var3, Var75, Var2, Var77, Var12, Var63, Var58, Var61, Var9, Var35, Var40, Var33, Var83, Var29, Var27, Var26, Var47, Var49, Var7, Var60, Var5, Var50, Var54, Var23, Var56, Var4, Var36, Var21, Var18, Var82, Var117, Var84, Var85, Var170, Var165, Var164, Var161, Var159, Var158, Var156, Var155, Var152, Var151, Var148, Var146, Var145, Var142, Var138, Var171, Var173, Var176, Var211, Var225, Var224, Var217, Var215, Var214, Var213, Var201, Var178, Var191, Var187, Var186, Var182, Var181, Var180, Var137, Var135, Var131, Var93, Var101, Var100, Var99, Var98, Var97, Var96, Var92, Var103, Var91, Var90, Var89, Var88, Var87, Var86, Var102, Var104, Var130, Var118, Var129, Var128, Var127, Var122, Var121, Var120, Var116, Var106, Var115, Var114, Var110, Var109, Var108, Var107, Var1\n"
     ]
    }
   ],
   "source": [
    "print('Признаки, которые имеют нулевой вес:')\n",
    "for c in X.columns[indices[98:]]:\n",
    "    if c != 'Var1':\n",
    "        print(c, end=', ')\n",
    "    else:\n",
    "        print(c)"
   ]
  },
  {
   "cell_type": "markdown",
   "metadata": {},
   "source": [
    "Как и было сказано выше, CatBoostLassifier способен извлечь нелинейные зависимости из, на первый взгляд, даже ненужных признаков"
   ]
  },
  {
   "cell_type": "markdown",
   "metadata": {},
   "source": [
    "### 8\\. Напоследок давайте посмотрим на объекты. На каких объектах достигается наибольшая ошибка классификации? Есть ли межу этими объектами что-то общее? Видны ли какие-либо закономерности? Предположите, почему наибольшая ошибка достигается именно на этих объектах. В данном случае \"наибольшую\" ошибку можно понимать как отнесение объекта с чужому классу с большой долей уверенности (с высокой вероятностью)."
   ]
  },
  {
   "cell_type": "code",
   "execution_count": 20,
   "metadata": {},
   "outputs": [
    {
     "data": {
      "text/plain": [
       "GridSearchCV(cv=StratifiedKFold(n_splits=5, random_state=None, shuffle=True),\n",
       "             estimator=<catboost.core.CatBoostClassifier object at 0x000001C9C68CE400>,\n",
       "             n_jobs=-1,\n",
       "             param_grid={'class_weights': [[0.5406890845694698,\n",
       "                                            6.644153957879448],\n",
       "                                           None]},\n",
       "             scoring='roc_auc')"
      ]
     },
     "execution_count": 20,
     "metadata": {},
     "output_type": "execute_result"
    }
   ],
   "source": [
    "cat_features = [c for c in X.columns if c in cat_col]\n",
    "model = CatBoostClassifier(iterations=300,\n",
    "                           learning_rate=0.1,\n",
    "                           depth=2,\n",
    "                           cat_features=cat_features,\n",
    "                           verbose=False)\n",
    "opt = GridSearchCV(model, param_grid={'class_weights': [class_weights, None]}, scoring='roc_auc', n_jobs=-1, cv=cv)\n",
    "opt.fit(X, y)"
   ]
  },
  {
   "cell_type": "code",
   "execution_count": 21,
   "metadata": {},
   "outputs": [],
   "source": [
    "result = pd.DataFrame({'probability': opt.predict_proba(X)[:, 1], 'labels': y})"
   ]
  },
  {
   "cell_type": "markdown",
   "metadata": {},
   "source": [
    "За ошибку будем считать отнесение к классу +1 тех объектов, вероятность которых меньше 0.1 и отнесение к классу -1 тех объектов, вероятность которых больше 0.9"
   ]
  },
  {
   "cell_type": "code",
   "execution_count": 22,
   "metadata": {},
   "outputs": [],
   "source": [
    "error = result[((result.probability > 0.9) & (result.labels == -1)) | \n",
    "               ((result.probability < 0.1) & (result.labels == 1))]"
   ]
  },
  {
   "cell_type": "code",
   "execution_count": 215,
   "metadata": {},
   "outputs": [],
   "source": [
    "error_1 = result[((result.probability > 0.9) & (result.labels == -1))] # ошибка первого рода\n",
    "error_2 = result[((result.probability < 0.1) & (result.labels == 1))] # ошибка второго рода"
   ]
  },
  {
   "cell_type": "markdown",
   "metadata": {},
   "source": [
    "Посмотрим на эти объеты:"
   ]
  },
  {
   "cell_type": "code",
   "execution_count": 208,
   "metadata": {},
   "outputs": [],
   "source": [
    "top10 = X.columns[indices[:10]]"
   ]
  },
  {
   "cell_type": "code",
   "execution_count": 220,
   "metadata": {},
   "outputs": [
    {
     "data": {
      "text/html": [
       "<div>\n",
       "<style scoped>\n",
       "    .dataframe tbody tr th:only-of-type {\n",
       "        vertical-align: middle;\n",
       "    }\n",
       "\n",
       "    .dataframe tbody tr th {\n",
       "        vertical-align: top;\n",
       "    }\n",
       "\n",
       "    .dataframe thead th {\n",
       "        text-align: right;\n",
       "    }\n",
       "</style>\n",
       "<table border=\"1\" class=\"dataframe\">\n",
       "  <thead>\n",
       "    <tr style=\"text-align: right;\">\n",
       "      <th></th>\n",
       "      <th>Var126</th>\n",
       "      <th>Var74</th>\n",
       "      <th>Var199</th>\n",
       "      <th>Var189</th>\n",
       "      <th>Var212</th>\n",
       "      <th>Var81</th>\n",
       "      <th>Var73</th>\n",
       "      <th>Var218</th>\n",
       "      <th>Var113</th>\n",
       "      <th>Var13</th>\n",
       "    </tr>\n",
       "  </thead>\n",
       "  <tbody>\n",
       "    <tr>\n",
       "      <th>602</th>\n",
       "      <td>0.0</td>\n",
       "      <td>0.0</td>\n",
       "      <td>msIvIpku4g</td>\n",
       "      <td>0.0</td>\n",
       "      <td>NhsEn4L</td>\n",
       "      <td>167007.90</td>\n",
       "      <td>36</td>\n",
       "      <td>NA</td>\n",
       "      <td>-105843.6</td>\n",
       "      <td>0.0</td>\n",
       "    </tr>\n",
       "    <tr>\n",
       "      <th>6984</th>\n",
       "      <td>-10.0</td>\n",
       "      <td>0.0</td>\n",
       "      <td>kmL8CT_</td>\n",
       "      <td>102.0</td>\n",
       "      <td>NhsEn4L</td>\n",
       "      <td>40493.70</td>\n",
       "      <td>14</td>\n",
       "      <td>NA</td>\n",
       "      <td>-103952.0</td>\n",
       "      <td>0.0</td>\n",
       "    </tr>\n",
       "    <tr>\n",
       "      <th>7029</th>\n",
       "      <td>0.0</td>\n",
       "      <td>0.0</td>\n",
       "      <td>nQUX8Hg64f</td>\n",
       "      <td>150.0</td>\n",
       "      <td>NhsEn4L</td>\n",
       "      <td>268313.40</td>\n",
       "      <td>16</td>\n",
       "      <td>NA</td>\n",
       "      <td>-491748.0</td>\n",
       "      <td>0.0</td>\n",
       "    </tr>\n",
       "    <tr>\n",
       "      <th>7267</th>\n",
       "      <td>0.0</td>\n",
       "      <td>0.0</td>\n",
       "      <td>NfN9Bz6HFx</td>\n",
       "      <td>264.0</td>\n",
       "      <td>NhsEn4L</td>\n",
       "      <td>112778.40</td>\n",
       "      <td>26</td>\n",
       "      <td>NA</td>\n",
       "      <td>176358.0</td>\n",
       "      <td>0.0</td>\n",
       "    </tr>\n",
       "    <tr>\n",
       "      <th>9118</th>\n",
       "      <td>-8.0</td>\n",
       "      <td>0.0</td>\n",
       "      <td>UFIdC8I</td>\n",
       "      <td>0.0</td>\n",
       "      <td>NhsEn4L</td>\n",
       "      <td>178916.10</td>\n",
       "      <td>16</td>\n",
       "      <td>UYBR</td>\n",
       "      <td>2608976.0</td>\n",
       "      <td>0.0</td>\n",
       "    </tr>\n",
       "    <tr>\n",
       "      <th>9691</th>\n",
       "      <td>0.0</td>\n",
       "      <td>42.0</td>\n",
       "      <td>fTvO8qD</td>\n",
       "      <td>0.0</td>\n",
       "      <td>NhsEn4L</td>\n",
       "      <td>80874.91</td>\n",
       "      <td>60</td>\n",
       "      <td>NA</td>\n",
       "      <td>279472.4</td>\n",
       "      <td>492.0</td>\n",
       "    </tr>\n",
       "    <tr>\n",
       "      <th>9936</th>\n",
       "      <td>0.0</td>\n",
       "      <td>0.0</td>\n",
       "      <td>d4Gf64d6X6</td>\n",
       "      <td>0.0</td>\n",
       "      <td>NhsEn4L</td>\n",
       "      <td>136331.40</td>\n",
       "      <td>28</td>\n",
       "      <td>NA</td>\n",
       "      <td>-174197.6</td>\n",
       "      <td>0.0</td>\n",
       "    </tr>\n",
       "    <tr>\n",
       "      <th>10197</th>\n",
       "      <td>0.0</td>\n",
       "      <td>56.0</td>\n",
       "      <td>Gx4DdKpk3W4UA</td>\n",
       "      <td>0.0</td>\n",
       "      <td>NhsEn4L</td>\n",
       "      <td>15844.20</td>\n",
       "      <td>58</td>\n",
       "      <td>NA</td>\n",
       "      <td>58630.0</td>\n",
       "      <td>48.0</td>\n",
       "    </tr>\n",
       "    <tr>\n",
       "      <th>11335</th>\n",
       "      <td>-10.0</td>\n",
       "      <td>0.0</td>\n",
       "      <td>7vJNLJ0</td>\n",
       "      <td>192.0</td>\n",
       "      <td>NhsEn4L</td>\n",
       "      <td>11831.91</td>\n",
       "      <td>14</td>\n",
       "      <td>cJvF</td>\n",
       "      <td>1261200.0</td>\n",
       "      <td>0.0</td>\n",
       "    </tr>\n",
       "    <tr>\n",
       "      <th>12899</th>\n",
       "      <td>-10.0</td>\n",
       "      <td>0.0</td>\n",
       "      <td>NW71mrodGH</td>\n",
       "      <td>0.0</td>\n",
       "      <td>NhsEn4L</td>\n",
       "      <td>207157.80</td>\n",
       "      <td>14</td>\n",
       "      <td>NA</td>\n",
       "      <td>363336.0</td>\n",
       "      <td>0.0</td>\n",
       "    </tr>\n",
       "    <tr>\n",
       "      <th>13404</th>\n",
       "      <td>-8.0</td>\n",
       "      <td>0.0</td>\n",
       "      <td>8o3mGoE</td>\n",
       "      <td>114.0</td>\n",
       "      <td>NhsEn4L</td>\n",
       "      <td>421296.00</td>\n",
       "      <td>16</td>\n",
       "      <td>UYBR</td>\n",
       "      <td>601640.0</td>\n",
       "      <td>0.0</td>\n",
       "    </tr>\n",
       "    <tr>\n",
       "      <th>17147</th>\n",
       "      <td>0.0</td>\n",
       "      <td>0.0</td>\n",
       "      <td>ELqaUgs</td>\n",
       "      <td>0.0</td>\n",
       "      <td>NhsEn4L</td>\n",
       "      <td>417675.00</td>\n",
       "      <td>14</td>\n",
       "      <td>NA</td>\n",
       "      <td>1028996.0</td>\n",
       "      <td>0.0</td>\n",
       "    </tr>\n",
       "  </tbody>\n",
       "</table>\n",
       "</div>"
      ],
      "text/plain": [
       "       Var126  Var74         Var199  Var189   Var212      Var81  Var73 Var218  \\\n",
       "602       0.0    0.0     msIvIpku4g     0.0  NhsEn4L  167007.90     36     NA   \n",
       "6984    -10.0    0.0        kmL8CT_   102.0  NhsEn4L   40493.70     14     NA   \n",
       "7029      0.0    0.0     nQUX8Hg64f   150.0  NhsEn4L  268313.40     16     NA   \n",
       "7267      0.0    0.0     NfN9Bz6HFx   264.0  NhsEn4L  112778.40     26     NA   \n",
       "9118     -8.0    0.0        UFIdC8I     0.0  NhsEn4L  178916.10     16   UYBR   \n",
       "9691      0.0   42.0        fTvO8qD     0.0  NhsEn4L   80874.91     60     NA   \n",
       "9936      0.0    0.0     d4Gf64d6X6     0.0  NhsEn4L  136331.40     28     NA   \n",
       "10197     0.0   56.0  Gx4DdKpk3W4UA     0.0  NhsEn4L   15844.20     58     NA   \n",
       "11335   -10.0    0.0        7vJNLJ0   192.0  NhsEn4L   11831.91     14   cJvF   \n",
       "12899   -10.0    0.0     NW71mrodGH     0.0  NhsEn4L  207157.80     14     NA   \n",
       "13404    -8.0    0.0        8o3mGoE   114.0  NhsEn4L  421296.00     16   UYBR   \n",
       "17147     0.0    0.0        ELqaUgs     0.0  NhsEn4L  417675.00     14     NA   \n",
       "\n",
       "          Var113  Var13  \n",
       "602    -105843.6    0.0  \n",
       "6984   -103952.0    0.0  \n",
       "7029   -491748.0    0.0  \n",
       "7267    176358.0    0.0  \n",
       "9118   2608976.0    0.0  \n",
       "9691    279472.4  492.0  \n",
       "9936   -174197.6    0.0  \n",
       "10197    58630.0   48.0  \n",
       "11335  1261200.0    0.0  \n",
       "12899   363336.0    0.0  \n",
       "13404   601640.0    0.0  \n",
       "17147  1028996.0    0.0  "
      ]
     },
     "execution_count": 220,
     "metadata": {},
     "output_type": "execute_result"
    }
   ],
   "source": [
    "X.iloc[error_1.index][top10]"
   ]
  },
  {
   "cell_type": "code",
   "execution_count": 224,
   "metadata": {
    "scrolled": true
   },
   "outputs": [
    {
     "data": {
      "text/html": [
       "<div>\n",
       "<style scoped>\n",
       "    .dataframe tbody tr th:only-of-type {\n",
       "        vertical-align: middle;\n",
       "    }\n",
       "\n",
       "    .dataframe tbody tr th {\n",
       "        vertical-align: top;\n",
       "    }\n",
       "\n",
       "    .dataframe thead th {\n",
       "        text-align: right;\n",
       "    }\n",
       "</style>\n",
       "<table border=\"1\" class=\"dataframe\">\n",
       "  <thead>\n",
       "    <tr style=\"text-align: right;\">\n",
       "      <th></th>\n",
       "      <th>Var126</th>\n",
       "      <th>Var74</th>\n",
       "      <th>Var199</th>\n",
       "      <th>Var189</th>\n",
       "      <th>Var212</th>\n",
       "      <th>Var81</th>\n",
       "      <th>Var73</th>\n",
       "      <th>Var218</th>\n",
       "      <th>Var113</th>\n",
       "      <th>Var13</th>\n",
       "    </tr>\n",
       "  </thead>\n",
       "  <tbody>\n",
       "    <tr>\n",
       "      <th>3152</th>\n",
       "      <td>-30.0</td>\n",
       "      <td>161.0</td>\n",
       "      <td>nQUq7hGe64</td>\n",
       "      <td>294.0</td>\n",
       "      <td>XfqtO3UdzaXh_</td>\n",
       "      <td>4513.29</td>\n",
       "      <td>58</td>\n",
       "      <td>UYBR</td>\n",
       "      <td>13988.16</td>\n",
       "      <td>1304.0</td>\n",
       "    </tr>\n",
       "    <tr>\n",
       "      <th>3216</th>\n",
       "      <td>-30.0</td>\n",
       "      <td>14.0</td>\n",
       "      <td>3clyC8L</td>\n",
       "      <td>0.0</td>\n",
       "      <td>WsRVNrF85oPU_</td>\n",
       "      <td>113647.80</td>\n",
       "      <td>64</td>\n",
       "      <td>UYBR</td>\n",
       "      <td>144296.00</td>\n",
       "      <td>1384.0</td>\n",
       "    </tr>\n",
       "    <tr>\n",
       "      <th>3224</th>\n",
       "      <td>-26.0</td>\n",
       "      <td>63.0</td>\n",
       "      <td>MypvvoIQqc</td>\n",
       "      <td>0.0</td>\n",
       "      <td>4kVnq_T26xq1p</td>\n",
       "      <td>20975.91</td>\n",
       "      <td>160</td>\n",
       "      <td>cJvF</td>\n",
       "      <td>51163.20</td>\n",
       "      <td>228.0</td>\n",
       "    </tr>\n",
       "    <tr>\n",
       "      <th>4309</th>\n",
       "      <td>-30.0</td>\n",
       "      <td>175.0</td>\n",
       "      <td>n1zVHpT8NN</td>\n",
       "      <td>0.0</td>\n",
       "      <td>Ie_5MZs</td>\n",
       "      <td>20317.98</td>\n",
       "      <td>164</td>\n",
       "      <td>cJvF</td>\n",
       "      <td>53568.00</td>\n",
       "      <td>4712.0</td>\n",
       "    </tr>\n",
       "    <tr>\n",
       "      <th>7814</th>\n",
       "      <td>-26.0</td>\n",
       "      <td>231.0</td>\n",
       "      <td>WN2wUb0T0UKRa</td>\n",
       "      <td>0.0</td>\n",
       "      <td>leSl</td>\n",
       "      <td>29408.46</td>\n",
       "      <td>154</td>\n",
       "      <td>cJvF</td>\n",
       "      <td>262702.00</td>\n",
       "      <td>3884.0</td>\n",
       "    </tr>\n",
       "    <tr>\n",
       "      <th>15321</th>\n",
       "      <td>-18.0</td>\n",
       "      <td>637.0</td>\n",
       "      <td>3cO76t0</td>\n",
       "      <td>0.0</td>\n",
       "      <td>Ie_5MZs</td>\n",
       "      <td>3244.29</td>\n",
       "      <td>136</td>\n",
       "      <td>UYBR</td>\n",
       "      <td>-1849496.00</td>\n",
       "      <td>2900.0</td>\n",
       "    </tr>\n",
       "  </tbody>\n",
       "</table>\n",
       "</div>"
      ],
      "text/plain": [
       "       Var126  Var74         Var199  Var189         Var212      Var81  Var73  \\\n",
       "3152    -30.0  161.0     nQUq7hGe64   294.0  XfqtO3UdzaXh_    4513.29     58   \n",
       "3216    -30.0   14.0        3clyC8L     0.0  WsRVNrF85oPU_  113647.80     64   \n",
       "3224    -26.0   63.0     MypvvoIQqc     0.0  4kVnq_T26xq1p   20975.91    160   \n",
       "4309    -30.0  175.0     n1zVHpT8NN     0.0        Ie_5MZs   20317.98    164   \n",
       "7814    -26.0  231.0  WN2wUb0T0UKRa     0.0           leSl   29408.46    154   \n",
       "15321   -18.0  637.0        3cO76t0     0.0        Ie_5MZs    3244.29    136   \n",
       "\n",
       "      Var218      Var113   Var13  \n",
       "3152    UYBR    13988.16  1304.0  \n",
       "3216    UYBR   144296.00  1384.0  \n",
       "3224    cJvF    51163.20   228.0  \n",
       "4309    cJvF    53568.00  4712.0  \n",
       "7814    cJvF   262702.00  3884.0  \n",
       "15321   UYBR -1849496.00  2900.0  "
      ]
     },
     "execution_count": 224,
     "metadata": {},
     "output_type": "execute_result"
    }
   ],
   "source": [
    "X.iloc[error_2.index][top10]"
   ]
  },
  {
   "cell_type": "markdown",
   "metadata": {},
   "source": [
    "Можно предположить причину того, что объекты неправильно классифицируются по наиболее важным признакам. Ошибка второго рода достигается, если признак Var126 принимает отрицательные значения < -17. Ошибка первого рода достигается, если признак Var212 принимает значение \"NhsEn4L\". Также можно предположить, что ошибка первого рода может возникнуть из-за большого количества пропусков.\n",
    "\n",
    "Попробуем удалить эти объекты."
   ]
  },
  {
   "cell_type": "code",
   "execution_count": 27,
   "metadata": {},
   "outputs": [],
   "source": [
    "new_X = X.drop(error.index, axis=0)"
   ]
  },
  {
   "cell_type": "code",
   "execution_count": 28,
   "metadata": {},
   "outputs": [],
   "source": [
    "new_y = y.drop(error.index)"
   ]
  },
  {
   "cell_type": "code",
   "execution_count": 29,
   "metadata": {},
   "outputs": [
    {
     "data": {
      "text/plain": [
       "GridSearchCV(cv=StratifiedKFold(n_splits=5, random_state=None, shuffle=True),\n",
       "             estimator=<catboost.core.CatBoostClassifier object at 0x000001C9C68CE400>,\n",
       "             n_jobs=-1,\n",
       "             param_grid={'class_weights': [[0.5406890845694698,\n",
       "                                            6.644153957879448],\n",
       "                                           None]},\n",
       "             scoring='roc_auc')"
      ]
     },
     "execution_count": 29,
     "metadata": {},
     "output_type": "execute_result"
    }
   ],
   "source": [
    "opt.fit(new_X, new_y)"
   ]
  },
  {
   "cell_type": "code",
   "execution_count": 244,
   "metadata": {},
   "outputs": [],
   "source": [
    "ans = pd.DataFrame({'ID': data_test.ID,  'result': opt.predict_proba(X_test)[:, 1]})\n",
    "ans.to_csv('kaggle.csv', index=False)\n",
    "# Качество на тесте получилось 0.72582"
   ]
  },
  {
   "cell_type": "markdown",
   "metadata": {},
   "source": [
    "Качество на тесте улучшилось"
   ]
  },
  {
   "cell_type": "markdown",
   "metadata": {},
   "source": [
    "### 9\\. По итогам проведенных экспериментов постройте финальную решение - модель с наилучшим качеством. Укажите, какие преобразования данных, параметры и пр. вы выбрали для построения финальной модели.\n",
    "Итоговая модель построена на предыдущем шаге. По результатам экспериментов было выявлено следующее:\n",
    "1. Для обучения модели требуется вся обучающая выборка;\n",
    "2. В качестве борьбы с дисбаланасом классов используются веса объектов:\n",
    "   $$ weight_1 = n / 2n_1 $$\n",
    "   $$ weight_0 = n / 2n_0, $$\n",
    "   где $$weight_1 - вес \\ объектов \\ churn$$\n",
    "   $$weight_0 - вес \\ объектов \\ not \\ churn$$\n",
    "   $$n - число \\ объектов$$\n",
    "   $$n_1 - число \\ объектов \\ класса \\ churn$$\n",
    "   $$n_0 - число \\ объектов \\ класса \\ not \\ churn$$\n",
    "3. Пропуски заполняются по следующей стратегии: пропуски у числовых признаков заполняются нулями, а у категориальных - новой категорией \"NA\"\n",
    "4. Категориальные признаки обрабатываются автоматически с помощью алгоритма CatBoostClassifier\n",
    "5. Отбор признаков: удалить только те признаки, которые имеют пропуски на всех объектах\n",
    "6. С помощью GridSearchCV подобрали оптимальные параметры для CatBoostClassifier: depth=2 и learning_rate=0.1\n",
    "7. Удалить те объекты, которые имеют \"наибольшую\" ошибку."
   ]
  },
  {
   "cell_type": "markdown",
   "metadata": {},
   "source": [
    "### 10\\. Подумайте, можно ли еще улучшить модель? Что для этого можно сделать? "
   ]
  },
  {
   "cell_type": "code",
   "execution_count": 23,
   "metadata": {
    "scrolled": true
   },
   "outputs": [],
   "source": [
    "poor_obj = data_train.count(axis=1)[data_train.count(axis=1) < 53].index"
   ]
  },
  {
   "cell_type": "code",
   "execution_count": 32,
   "metadata": {},
   "outputs": [],
   "source": [
    "X_2 = new_X.drop(poor_obj, axis=0)"
   ]
  },
  {
   "cell_type": "code",
   "execution_count": 33,
   "metadata": {},
   "outputs": [
    {
     "data": {
      "text/plain": [
       "GridSearchCV(cv=StratifiedKFold(n_splits=5, random_state=None, shuffle=True),\n",
       "             estimator=<catboost.core.CatBoostClassifier object at 0x000001C9C68CE400>,\n",
       "             n_jobs=-1,\n",
       "             param_grid={'class_weights': [[0.5406890845694698,\n",
       "                                            6.644153957879448],\n",
       "                                           None]},\n",
       "             scoring='roc_auc')"
      ]
     },
     "execution_count": 33,
     "metadata": {},
     "output_type": "execute_result"
    }
   ],
   "source": [
    "y_2 = new_y.drop(poor_obj)\n",
    "opt.fit(X_2, y_2)"
   ]
  },
  {
   "cell_type": "code",
   "execution_count": 36,
   "metadata": {},
   "outputs": [],
   "source": [
    "ans = pd.DataFrame({'ID': data_test.ID,  'result': opt.predict_proba(X_test)[:, 1]})\n",
    "ans.to_csv('kaggle.csv', index=False)\n",
    "# Качество на тесте получилось 0.72587"
   ]
  },
  {
   "cell_type": "markdown",
   "metadata": {},
   "source": [
    "Здесь произошла очередная чистка данных, удалились те объекты, которые изначально имели меньше 53 заполненных значений."
   ]
  }
 ],
 "metadata": {
  "kernelspec": {
   "display_name": "Python 3",
   "language": "python",
   "name": "python3"
  },
  "language_info": {
   "codemirror_mode": {
    "name": "ipython",
    "version": 3
   },
   "file_extension": ".py",
   "mimetype": "text/x-python",
   "name": "python",
   "nbconvert_exporter": "python",
   "pygments_lexer": "ipython3",
   "version": "3.8.5"
  }
 },
 "nbformat": 4,
 "nbformat_minor": 1
}
