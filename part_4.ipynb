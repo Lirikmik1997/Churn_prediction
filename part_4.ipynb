{
 "cells": [
  {
   "cell_type": "markdown",
   "metadata": {},
   "source": [
    "# Построение и оптимизация модели"
   ]
  },
  {
   "cell_type": "code",
   "execution_count": 1,
   "metadata": {},
   "outputs": [],
   "source": [
    "import pandas as pd\n",
    "import numpy as np\n",
    "import matplotlib.pyplot as plt\n",
    "from sklearn.ensemble import RandomForestClassifier\n",
    "from sklearn.model_selection import train_test_split, GridSearchCV, StratifiedKFold\n",
    "from sklearn.metrics import roc_auc_score\n",
    "from sklearn.linear_model import LogisticRegression\n",
    "from sklearn.preprocessing import StandardScaler, LabelEncoder\n",
    "from sklearn.pipeline import Pipeline\n",
    "from catboost import CatBoostClassifier\n",
    "from catboost import *\n",
    "%matplotlib inline"
   ]
  },
  {
   "cell_type": "markdown",
   "metadata": {},
   "source": [
    "## Загрузка данных"
   ]
  },
  {
   "cell_type": "code",
   "execution_count": 2,
   "metadata": {},
   "outputs": [
    {
     "data": {
      "text/html": [
       "<div>\n",
       "<style scoped>\n",
       "    .dataframe tbody tr th:only-of-type {\n",
       "        vertical-align: middle;\n",
       "    }\n",
       "\n",
       "    .dataframe tbody tr th {\n",
       "        vertical-align: top;\n",
       "    }\n",
       "\n",
       "    .dataframe thead th {\n",
       "        text-align: right;\n",
       "    }\n",
       "</style>\n",
       "<table border=\"1\" class=\"dataframe\">\n",
       "  <thead>\n",
       "    <tr style=\"text-align: right;\">\n",
       "      <th></th>\n",
       "      <th>ID</th>\n",
       "      <th>Var1</th>\n",
       "      <th>Var2</th>\n",
       "      <th>Var3</th>\n",
       "      <th>Var4</th>\n",
       "      <th>Var5</th>\n",
       "      <th>Var6</th>\n",
       "      <th>Var7</th>\n",
       "      <th>Var8</th>\n",
       "      <th>Var9</th>\n",
       "      <th>...</th>\n",
       "      <th>Var222</th>\n",
       "      <th>Var223</th>\n",
       "      <th>Var224</th>\n",
       "      <th>Var225</th>\n",
       "      <th>Var226</th>\n",
       "      <th>Var227</th>\n",
       "      <th>Var228</th>\n",
       "      <th>Var229</th>\n",
       "      <th>Var230</th>\n",
       "      <th>labels</th>\n",
       "    </tr>\n",
       "  </thead>\n",
       "  <tbody>\n",
       "    <tr>\n",
       "      <th>0</th>\n",
       "      <td>0</td>\n",
       "      <td>NaN</td>\n",
       "      <td>NaN</td>\n",
       "      <td>NaN</td>\n",
       "      <td>NaN</td>\n",
       "      <td>NaN</td>\n",
       "      <td>3052.0</td>\n",
       "      <td>NaN</td>\n",
       "      <td>NaN</td>\n",
       "      <td>NaN</td>\n",
       "      <td>...</td>\n",
       "      <td>vr93T2a</td>\n",
       "      <td>LM8l689qOp</td>\n",
       "      <td>NaN</td>\n",
       "      <td>NaN</td>\n",
       "      <td>fKCe</td>\n",
       "      <td>02N6s8f</td>\n",
       "      <td>xwM2aC7IdeMC0</td>\n",
       "      <td>NaN</td>\n",
       "      <td>NaN</td>\n",
       "      <td>-1.0</td>\n",
       "    </tr>\n",
       "    <tr>\n",
       "      <th>1</th>\n",
       "      <td>1</td>\n",
       "      <td>NaN</td>\n",
       "      <td>NaN</td>\n",
       "      <td>NaN</td>\n",
       "      <td>NaN</td>\n",
       "      <td>NaN</td>\n",
       "      <td>1813.0</td>\n",
       "      <td>7.0</td>\n",
       "      <td>NaN</td>\n",
       "      <td>NaN</td>\n",
       "      <td>...</td>\n",
       "      <td>6hQ9lNX</td>\n",
       "      <td>LM8l689qOp</td>\n",
       "      <td>NaN</td>\n",
       "      <td>ELof</td>\n",
       "      <td>xb3V</td>\n",
       "      <td>RAYp</td>\n",
       "      <td>55YFVY9</td>\n",
       "      <td>mj86</td>\n",
       "      <td>NaN</td>\n",
       "      <td>-1.0</td>\n",
       "    </tr>\n",
       "    <tr>\n",
       "      <th>2</th>\n",
       "      <td>2</td>\n",
       "      <td>NaN</td>\n",
       "      <td>NaN</td>\n",
       "      <td>NaN</td>\n",
       "      <td>NaN</td>\n",
       "      <td>NaN</td>\n",
       "      <td>1953.0</td>\n",
       "      <td>7.0</td>\n",
       "      <td>NaN</td>\n",
       "      <td>NaN</td>\n",
       "      <td>...</td>\n",
       "      <td>catzS2D</td>\n",
       "      <td>LM8l689qOp</td>\n",
       "      <td>NaN</td>\n",
       "      <td>NaN</td>\n",
       "      <td>FSa2</td>\n",
       "      <td>ZI9m</td>\n",
       "      <td>ib5G6X1eUxUn6</td>\n",
       "      <td>mj86</td>\n",
       "      <td>NaN</td>\n",
       "      <td>-1.0</td>\n",
       "    </tr>\n",
       "    <tr>\n",
       "      <th>3</th>\n",
       "      <td>3</td>\n",
       "      <td>NaN</td>\n",
       "      <td>NaN</td>\n",
       "      <td>NaN</td>\n",
       "      <td>NaN</td>\n",
       "      <td>NaN</td>\n",
       "      <td>1533.0</td>\n",
       "      <td>7.0</td>\n",
       "      <td>NaN</td>\n",
       "      <td>NaN</td>\n",
       "      <td>...</td>\n",
       "      <td>e4lqvY0</td>\n",
       "      <td>LM8l689qOp</td>\n",
       "      <td>NaN</td>\n",
       "      <td>NaN</td>\n",
       "      <td>xb3V</td>\n",
       "      <td>RAYp</td>\n",
       "      <td>F2FyR07IdsN7I</td>\n",
       "      <td>NaN</td>\n",
       "      <td>NaN</td>\n",
       "      <td>1.0</td>\n",
       "    </tr>\n",
       "    <tr>\n",
       "      <th>4</th>\n",
       "      <td>4</td>\n",
       "      <td>NaN</td>\n",
       "      <td>NaN</td>\n",
       "      <td>NaN</td>\n",
       "      <td>NaN</td>\n",
       "      <td>NaN</td>\n",
       "      <td>686.0</td>\n",
       "      <td>7.0</td>\n",
       "      <td>NaN</td>\n",
       "      <td>NaN</td>\n",
       "      <td>...</td>\n",
       "      <td>MAz3HNj</td>\n",
       "      <td>LM8l689qOp</td>\n",
       "      <td>NaN</td>\n",
       "      <td>NaN</td>\n",
       "      <td>WqMG</td>\n",
       "      <td>RAYp</td>\n",
       "      <td>F2FyR07IdsN7I</td>\n",
       "      <td>NaN</td>\n",
       "      <td>NaN</td>\n",
       "      <td>-1.0</td>\n",
       "    </tr>\n",
       "  </tbody>\n",
       "</table>\n",
       "<p>5 rows × 232 columns</p>\n",
       "</div>"
      ],
      "text/plain": [
       "   ID  Var1  Var2  Var3  Var4  Var5    Var6  Var7  Var8  Var9  ...   Var222  \\\n",
       "0   0   NaN   NaN   NaN   NaN   NaN  3052.0   NaN   NaN   NaN  ...  vr93T2a   \n",
       "1   1   NaN   NaN   NaN   NaN   NaN  1813.0   7.0   NaN   NaN  ...  6hQ9lNX   \n",
       "2   2   NaN   NaN   NaN   NaN   NaN  1953.0   7.0   NaN   NaN  ...  catzS2D   \n",
       "3   3   NaN   NaN   NaN   NaN   NaN  1533.0   7.0   NaN   NaN  ...  e4lqvY0   \n",
       "4   4   NaN   NaN   NaN   NaN   NaN   686.0   7.0   NaN   NaN  ...  MAz3HNj   \n",
       "\n",
       "       Var223  Var224  Var225  Var226   Var227         Var228  Var229  Var230  \\\n",
       "0  LM8l689qOp     NaN     NaN    fKCe  02N6s8f  xwM2aC7IdeMC0     NaN     NaN   \n",
       "1  LM8l689qOp     NaN    ELof    xb3V     RAYp        55YFVY9    mj86     NaN   \n",
       "2  LM8l689qOp     NaN     NaN    FSa2     ZI9m  ib5G6X1eUxUn6    mj86     NaN   \n",
       "3  LM8l689qOp     NaN     NaN    xb3V     RAYp  F2FyR07IdsN7I     NaN     NaN   \n",
       "4  LM8l689qOp     NaN     NaN    WqMG     RAYp  F2FyR07IdsN7I     NaN     NaN   \n",
       "\n",
       "   labels  \n",
       "0    -1.0  \n",
       "1    -1.0  \n",
       "2    -1.0  \n",
       "3     1.0  \n",
       "4    -1.0  \n",
       "\n",
       "[5 rows x 232 columns]"
      ]
     },
     "execution_count": 2,
     "metadata": {},
     "output_type": "execute_result"
    }
   ],
   "source": [
    "data_train = pd.read_csv('orange_small_churn_train_data.csv')\n",
    "data_train.head()"
   ]
  },
  {
   "cell_type": "code",
   "execution_count": 3,
   "metadata": {
    "scrolled": true
   },
   "outputs": [
    {
     "data": {
      "text/html": [
       "<div>\n",
       "<style scoped>\n",
       "    .dataframe tbody tr th:only-of-type {\n",
       "        vertical-align: middle;\n",
       "    }\n",
       "\n",
       "    .dataframe tbody tr th {\n",
       "        vertical-align: top;\n",
       "    }\n",
       "\n",
       "    .dataframe thead th {\n",
       "        text-align: right;\n",
       "    }\n",
       "</style>\n",
       "<table border=\"1\" class=\"dataframe\">\n",
       "  <thead>\n",
       "    <tr style=\"text-align: right;\">\n",
       "      <th></th>\n",
       "      <th>ID</th>\n",
       "      <th>Var1</th>\n",
       "      <th>Var2</th>\n",
       "      <th>Var3</th>\n",
       "      <th>Var4</th>\n",
       "      <th>Var5</th>\n",
       "      <th>Var6</th>\n",
       "      <th>Var7</th>\n",
       "      <th>Var8</th>\n",
       "      <th>Var9</th>\n",
       "      <th>...</th>\n",
       "      <th>Var221</th>\n",
       "      <th>Var222</th>\n",
       "      <th>Var223</th>\n",
       "      <th>Var224</th>\n",
       "      <th>Var225</th>\n",
       "      <th>Var226</th>\n",
       "      <th>Var227</th>\n",
       "      <th>Var228</th>\n",
       "      <th>Var229</th>\n",
       "      <th>Var230</th>\n",
       "    </tr>\n",
       "  </thead>\n",
       "  <tbody>\n",
       "    <tr>\n",
       "      <th>0</th>\n",
       "      <td>0</td>\n",
       "      <td>NaN</td>\n",
       "      <td>NaN</td>\n",
       "      <td>NaN</td>\n",
       "      <td>NaN</td>\n",
       "      <td>NaN</td>\n",
       "      <td>1225.0</td>\n",
       "      <td>7.0</td>\n",
       "      <td>NaN</td>\n",
       "      <td>NaN</td>\n",
       "      <td>...</td>\n",
       "      <td>zCkv</td>\n",
       "      <td>APgdzOv</td>\n",
       "      <td>jySVZNlOJy</td>\n",
       "      <td>NaN</td>\n",
       "      <td>ELof</td>\n",
       "      <td>xb3V</td>\n",
       "      <td>6fzt</td>\n",
       "      <td>Zy3gnGM</td>\n",
       "      <td>NaN</td>\n",
       "      <td>NaN</td>\n",
       "    </tr>\n",
       "    <tr>\n",
       "      <th>1</th>\n",
       "      <td>1</td>\n",
       "      <td>NaN</td>\n",
       "      <td>NaN</td>\n",
       "      <td>NaN</td>\n",
       "      <td>NaN</td>\n",
       "      <td>NaN</td>\n",
       "      <td>896.0</td>\n",
       "      <td>14.0</td>\n",
       "      <td>NaN</td>\n",
       "      <td>NaN</td>\n",
       "      <td>...</td>\n",
       "      <td>oslk</td>\n",
       "      <td>IIvC99a</td>\n",
       "      <td>LM8l689qOp</td>\n",
       "      <td>NaN</td>\n",
       "      <td>NaN</td>\n",
       "      <td>xb3V</td>\n",
       "      <td>RAYp</td>\n",
       "      <td>F2FyR07IdsN7I</td>\n",
       "      <td>NaN</td>\n",
       "      <td>NaN</td>\n",
       "    </tr>\n",
       "    <tr>\n",
       "      <th>2</th>\n",
       "      <td>2</td>\n",
       "      <td>NaN</td>\n",
       "      <td>NaN</td>\n",
       "      <td>NaN</td>\n",
       "      <td>NaN</td>\n",
       "      <td>NaN</td>\n",
       "      <td>791.0</td>\n",
       "      <td>7.0</td>\n",
       "      <td>NaN</td>\n",
       "      <td>NaN</td>\n",
       "      <td>...</td>\n",
       "      <td>oslk</td>\n",
       "      <td>6YSocsg</td>\n",
       "      <td>LM8l689qOp</td>\n",
       "      <td>NaN</td>\n",
       "      <td>kG3k</td>\n",
       "      <td>rgKb</td>\n",
       "      <td>RAYp</td>\n",
       "      <td>F2FyR07IdsN7I</td>\n",
       "      <td>mj86</td>\n",
       "      <td>NaN</td>\n",
       "    </tr>\n",
       "    <tr>\n",
       "      <th>3</th>\n",
       "      <td>3</td>\n",
       "      <td>NaN</td>\n",
       "      <td>NaN</td>\n",
       "      <td>NaN</td>\n",
       "      <td>NaN</td>\n",
       "      <td>NaN</td>\n",
       "      <td>2296.0</td>\n",
       "      <td>7.0</td>\n",
       "      <td>NaN</td>\n",
       "      <td>NaN</td>\n",
       "      <td>...</td>\n",
       "      <td>oslk</td>\n",
       "      <td>5nQ7A2G</td>\n",
       "      <td>jySVZNlOJy</td>\n",
       "      <td>NaN</td>\n",
       "      <td>kG3k</td>\n",
       "      <td>rgKb</td>\n",
       "      <td>RAYp</td>\n",
       "      <td>F2FyR07IdsN7I</td>\n",
       "      <td>am7c</td>\n",
       "      <td>NaN</td>\n",
       "    </tr>\n",
       "    <tr>\n",
       "      <th>4</th>\n",
       "      <td>4</td>\n",
       "      <td>8.0</td>\n",
       "      <td>NaN</td>\n",
       "      <td>NaN</td>\n",
       "      <td>NaN</td>\n",
       "      <td>NaN</td>\n",
       "      <td>NaN</td>\n",
       "      <td>NaN</td>\n",
       "      <td>NaN</td>\n",
       "      <td>28.0</td>\n",
       "      <td>...</td>\n",
       "      <td>oslk</td>\n",
       "      <td>MI8s5nE</td>\n",
       "      <td>LM8l689qOp</td>\n",
       "      <td>NaN</td>\n",
       "      <td>NaN</td>\n",
       "      <td>7P5s</td>\n",
       "      <td>RAYp</td>\n",
       "      <td>F2FyR07IdsN7I</td>\n",
       "      <td>NaN</td>\n",
       "      <td>NaN</td>\n",
       "    </tr>\n",
       "  </tbody>\n",
       "</table>\n",
       "<p>5 rows × 231 columns</p>\n",
       "</div>"
      ],
      "text/plain": [
       "   ID  Var1  Var2  Var3  Var4  Var5    Var6  Var7  Var8  Var9  ...  Var221  \\\n",
       "0   0   NaN   NaN   NaN   NaN   NaN  1225.0   7.0   NaN   NaN  ...    zCkv   \n",
       "1   1   NaN   NaN   NaN   NaN   NaN   896.0  14.0   NaN   NaN  ...    oslk   \n",
       "2   2   NaN   NaN   NaN   NaN   NaN   791.0   7.0   NaN   NaN  ...    oslk   \n",
       "3   3   NaN   NaN   NaN   NaN   NaN  2296.0   7.0   NaN   NaN  ...    oslk   \n",
       "4   4   8.0   NaN   NaN   NaN   NaN     NaN   NaN   NaN  28.0  ...    oslk   \n",
       "\n",
       "    Var222      Var223  Var224  Var225  Var226  Var227         Var228  Var229  \\\n",
       "0  APgdzOv  jySVZNlOJy     NaN    ELof    xb3V    6fzt        Zy3gnGM     NaN   \n",
       "1  IIvC99a  LM8l689qOp     NaN     NaN    xb3V    RAYp  F2FyR07IdsN7I     NaN   \n",
       "2  6YSocsg  LM8l689qOp     NaN    kG3k    rgKb    RAYp  F2FyR07IdsN7I    mj86   \n",
       "3  5nQ7A2G  jySVZNlOJy     NaN    kG3k    rgKb    RAYp  F2FyR07IdsN7I    am7c   \n",
       "4  MI8s5nE  LM8l689qOp     NaN     NaN    7P5s    RAYp  F2FyR07IdsN7I     NaN   \n",
       "\n",
       "   Var230  \n",
       "0     NaN  \n",
       "1     NaN  \n",
       "2     NaN  \n",
       "3     NaN  \n",
       "4     NaN  \n",
       "\n",
       "[5 rows x 231 columns]"
      ]
     },
     "execution_count": 3,
     "metadata": {},
     "output_type": "execute_result"
    }
   ],
   "source": [
    "data_test = pd.read_csv('orange_small_churn_test_data.csv')\n",
    "data_test.head()"
   ]
  },
  {
   "cell_type": "code",
   "execution_count": 4,
   "metadata": {},
   "outputs": [],
   "source": [
    "X = data_train.drop(['labels'], axis=1)\n",
    "y = data_train.labels"
   ]
  },
  {
   "cell_type": "code",
   "execution_count": 5,
   "metadata": {},
   "outputs": [
    {
     "data": {
      "text/plain": [
       "(18299, 231)"
      ]
     },
     "execution_count": 5,
     "metadata": {},
     "output_type": "execute_result"
    }
   ],
   "source": [
    "X.shape"
   ]
  },
  {
   "cell_type": "code",
   "execution_count": 6,
   "metadata": {},
   "outputs": [
    {
     "data": {
      "text/plain": [
       "(10000, 231)"
      ]
     },
     "execution_count": 6,
     "metadata": {},
     "output_type": "execute_result"
    }
   ],
   "source": [
    "data_test.shape"
   ]
  },
  {
   "cell_type": "code",
   "execution_count": 5,
   "metadata": {},
   "outputs": [],
   "source": [
    "num_col = X.columns[:190]\n",
    "cat_col = X.columns[191:]"
   ]
  },
  {
   "cell_type": "markdown",
   "metadata": {},
   "source": [
    "## Предобработка\n",
    "Определим признаки, у которых более 50% пропущенных значений."
   ]
  },
  {
   "cell_type": "code",
   "execution_count": 7,
   "metadata": {},
   "outputs": [],
   "source": [
    "drop_columns = X.count(axis=0)[X.count(axis=0) < 9114].index"
   ]
  },
  {
   "cell_type": "markdown",
   "metadata": {},
   "source": [
    "Создадим класс для предобработки данных:"
   ]
  },
  {
   "cell_type": "code",
   "execution_count": 53,
   "metadata": {},
   "outputs": [],
   "source": [
    "class preparation_ensemble():\n",
    "    def __init__(self):\n",
    "        pass\n",
    "    def preprocess(self, df):\n",
    "        df = self.drop(df)\n",
    "        df = self.fill_missing_values(df)\n",
    "        df = self.cat_preprocess(df)\n",
    "        return df\n",
    "    def drop(self, df):\n",
    "        df = df.drop(drop_columns, axis=1) # удаление признаков, у которых более 50% пропущенных значений\n",
    "        return df\n",
    "    def fill_missing_values(self, df):\n",
    "        df = df.fillna(df.median(axis=0), axis=0) # среди числовых признаков заменим пропуски медианными значениями\n",
    "        df = df.fillna(\"NA\", axis=0) # для категориальных признаков заменим пропуски на отдельную категорию \"NA\"\n",
    "        return df\n",
    "    def cat_preprocess(self, df): \n",
    "        # При обработке категориальных признаков заменим значения категориального признака на его\n",
    "        # долю объектов класса +1 среди объектов выборки с соответствующим значением этого признака.\n",
    "        new_cat_col = [column for column in df.columns if column in cat_col]\n",
    "        for column in new_cat_col: # цикл по категориальным признакам\n",
    "            for feature in df[column].value_counts().index: # цикл по каждому значению категориального признака\n",
    "                strings = df[df[column] == feature].index\n",
    "                number = len(df[(df[column] == feature) & (df.labels is not None)])\n",
    "                df.loc[strings, column] = len(df[(df[column] == feature) & (df.labels == 1)]) / number\n",
    "        return df"
   ]
  },
  {
   "cell_type": "markdown",
   "metadata": {},
   "source": [
    "Так как при построении baseline-решений лучшее качество показал случайный лес, то начну эксперименты с ним.\n",
    "## Случайный лес\n",
    "Для того, чтобы и test, и train грамотно обработались, необходимо объединить два датафрейма (это нужно из-за того, что категориальные признаки зависят от метки класса)"
   ]
  },
  {
   "cell_type": "code",
   "execution_count": 6,
   "metadata": {},
   "outputs": [],
   "source": [
    "data = pd.concat([data_train, data_test], ignore_index=True)"
   ]
  },
  {
   "cell_type": "code",
   "execution_count": 175,
   "metadata": {
    "scrolled": true
   },
   "outputs": [
    {
     "data": {
      "text/html": [
       "<div>\n",
       "<style scoped>\n",
       "    .dataframe tbody tr th:only-of-type {\n",
       "        vertical-align: middle;\n",
       "    }\n",
       "\n",
       "    .dataframe tbody tr th {\n",
       "        vertical-align: top;\n",
       "    }\n",
       "\n",
       "    .dataframe thead th {\n",
       "        text-align: right;\n",
       "    }\n",
       "</style>\n",
       "<table border=\"1\" class=\"dataframe\">\n",
       "  <thead>\n",
       "    <tr style=\"text-align: right;\">\n",
       "      <th></th>\n",
       "      <th>ID</th>\n",
       "      <th>Var6</th>\n",
       "      <th>Var7</th>\n",
       "      <th>Var13</th>\n",
       "      <th>Var21</th>\n",
       "      <th>Var22</th>\n",
       "      <th>Var24</th>\n",
       "      <th>Var25</th>\n",
       "      <th>Var28</th>\n",
       "      <th>Var35</th>\n",
       "      <th>...</th>\n",
       "      <th>Var218</th>\n",
       "      <th>Var219</th>\n",
       "      <th>Var220</th>\n",
       "      <th>Var221</th>\n",
       "      <th>Var222</th>\n",
       "      <th>Var223</th>\n",
       "      <th>Var226</th>\n",
       "      <th>Var227</th>\n",
       "      <th>Var228</th>\n",
       "      <th>labels</th>\n",
       "    </tr>\n",
       "  </thead>\n",
       "  <tbody>\n",
       "    <tr>\n",
       "      <th>0</th>\n",
       "      <td>0</td>\n",
       "      <td>3052.0</td>\n",
       "      <td>7.0</td>\n",
       "      <td>232.0</td>\n",
       "      <td>480.0</td>\n",
       "      <td>600.0</td>\n",
       "      <td>20.0</td>\n",
       "      <td>480.0</td>\n",
       "      <td>200.00</td>\n",
       "      <td>0.0</td>\n",
       "      <td>...</td>\n",
       "      <td>0.0395508</td>\n",
       "      <td>0.0499193</td>\n",
       "      <td>0</td>\n",
       "      <td>0.0469584</td>\n",
       "      <td>0</td>\n",
       "      <td>0.04889</td>\n",
       "      <td>0.0542582</td>\n",
       "      <td>0.0412214</td>\n",
       "      <td>0.0416157</td>\n",
       "      <td>-1.0</td>\n",
       "    </tr>\n",
       "    <tr>\n",
       "      <th>1</th>\n",
       "      <td>1</td>\n",
       "      <td>1813.0</td>\n",
       "      <td>7.0</td>\n",
       "      <td>636.0</td>\n",
       "      <td>212.0</td>\n",
       "      <td>265.0</td>\n",
       "      <td>2.0</td>\n",
       "      <td>128.0</td>\n",
       "      <td>166.56</td>\n",
       "      <td>0.0</td>\n",
       "      <td>...</td>\n",
       "      <td>0.0395508</td>\n",
       "      <td>0.0499193</td>\n",
       "      <td>0</td>\n",
       "      <td>0.0527976</td>\n",
       "      <td>0</td>\n",
       "      <td>0.04889</td>\n",
       "      <td>0.0455718</td>\n",
       "      <td>0.0540989</td>\n",
       "      <td>0.0283745</td>\n",
       "      <td>-1.0</td>\n",
       "    </tr>\n",
       "    <tr>\n",
       "      <th>2</th>\n",
       "      <td>2</td>\n",
       "      <td>1953.0</td>\n",
       "      <td>7.0</td>\n",
       "      <td>448.0</td>\n",
       "      <td>176.0</td>\n",
       "      <td>220.0</td>\n",
       "      <td>0.0</td>\n",
       "      <td>72.0</td>\n",
       "      <td>311.76</td>\n",
       "      <td>0.0</td>\n",
       "      <td>...</td>\n",
       "      <td>0.0538007</td>\n",
       "      <td>0.0499193</td>\n",
       "      <td>0.0264404</td>\n",
       "      <td>0.0404789</td>\n",
       "      <td>0.0264404</td>\n",
       "      <td>0.04889</td>\n",
       "      <td>0.0586555</td>\n",
       "      <td>0.0298765</td>\n",
       "      <td>0.0265372</td>\n",
       "      <td>-1.0</td>\n",
       "    </tr>\n",
       "    <tr>\n",
       "      <th>3</th>\n",
       "      <td>3</td>\n",
       "      <td>1533.0</td>\n",
       "      <td>7.0</td>\n",
       "      <td>4.0</td>\n",
       "      <td>332.0</td>\n",
       "      <td>415.0</td>\n",
       "      <td>0.0</td>\n",
       "      <td>144.0</td>\n",
       "      <td>220.08</td>\n",
       "      <td>5.0</td>\n",
       "      <td>...</td>\n",
       "      <td>0.0395508</td>\n",
       "      <td>0.0499193</td>\n",
       "      <td>0.142857</td>\n",
       "      <td>0.0527976</td>\n",
       "      <td>0.142857</td>\n",
       "      <td>0.04889</td>\n",
       "      <td>0.0455718</td>\n",
       "      <td>0.0540989</td>\n",
       "      <td>0.0566405</td>\n",
       "      <td>1.0</td>\n",
       "    </tr>\n",
       "    <tr>\n",
       "      <th>4</th>\n",
       "      <td>4</td>\n",
       "      <td>686.0</td>\n",
       "      <td>7.0</td>\n",
       "      <td>0.0</td>\n",
       "      <td>160.0</td>\n",
       "      <td>200.0</td>\n",
       "      <td>2.0</td>\n",
       "      <td>48.0</td>\n",
       "      <td>278.00</td>\n",
       "      <td>0.0</td>\n",
       "      <td>...</td>\n",
       "      <td>0.0395508</td>\n",
       "      <td>0.0499193</td>\n",
       "      <td>0</td>\n",
       "      <td>0.0527976</td>\n",
       "      <td>0</td>\n",
       "      <td>0.04889</td>\n",
       "      <td>0.0466387</td>\n",
       "      <td>0.0540989</td>\n",
       "      <td>0.0566405</td>\n",
       "      <td>-1.0</td>\n",
       "    </tr>\n",
       "  </tbody>\n",
       "</table>\n",
       "<p>5 rows × 71 columns</p>\n",
       "</div>"
      ],
      "text/plain": [
       "   ID    Var6  Var7  Var13  Var21  Var22  Var24  Var25   Var28  Var35  ...  \\\n",
       "0   0  3052.0   7.0  232.0  480.0  600.0   20.0  480.0  200.00    0.0  ...   \n",
       "1   1  1813.0   7.0  636.0  212.0  265.0    2.0  128.0  166.56    0.0  ...   \n",
       "2   2  1953.0   7.0  448.0  176.0  220.0    0.0   72.0  311.76    0.0  ...   \n",
       "3   3  1533.0   7.0    4.0  332.0  415.0    0.0  144.0  220.08    5.0  ...   \n",
       "4   4   686.0   7.0    0.0  160.0  200.0    2.0   48.0  278.00    0.0  ...   \n",
       "\n",
       "      Var218     Var219     Var220     Var221     Var222   Var223     Var226  \\\n",
       "0  0.0395508  0.0499193          0  0.0469584          0  0.04889  0.0542582   \n",
       "1  0.0395508  0.0499193          0  0.0527976          0  0.04889  0.0455718   \n",
       "2  0.0538007  0.0499193  0.0264404  0.0404789  0.0264404  0.04889  0.0586555   \n",
       "3  0.0395508  0.0499193   0.142857  0.0527976   0.142857  0.04889  0.0455718   \n",
       "4  0.0395508  0.0499193          0  0.0527976          0  0.04889  0.0466387   \n",
       "\n",
       "      Var227     Var228  labels  \n",
       "0  0.0412214  0.0416157    -1.0  \n",
       "1  0.0540989  0.0283745    -1.0  \n",
       "2  0.0298765  0.0265372    -1.0  \n",
       "3  0.0540989  0.0566405     1.0  \n",
       "4  0.0540989  0.0566405    -1.0  \n",
       "\n",
       "[5 rows x 71 columns]"
      ]
     },
     "execution_count": 175,
     "metadata": {},
     "output_type": "execute_result"
    }
   ],
   "source": [
    "data_preparation = preparation_ensemble()\n",
    "df = data_preparation.preprocess(data)\n",
    "df.head()"
   ]
  },
  {
   "cell_type": "markdown",
   "metadata": {},
   "source": [
    "Теперь вновь необходимо разделить выборку на train и test:"
   ]
  },
  {
   "cell_type": "code",
   "execution_count": 176,
   "metadata": {},
   "outputs": [],
   "source": [
    "df_train = df[:18299]\n",
    "df_test = df[18299:]"
   ]
  },
  {
   "cell_type": "code",
   "execution_count": 177,
   "metadata": {},
   "outputs": [
    {
     "data": {
      "text/html": [
       "<div>\n",
       "<style scoped>\n",
       "    .dataframe tbody tr th:only-of-type {\n",
       "        vertical-align: middle;\n",
       "    }\n",
       "\n",
       "    .dataframe tbody tr th {\n",
       "        vertical-align: top;\n",
       "    }\n",
       "\n",
       "    .dataframe thead th {\n",
       "        text-align: right;\n",
       "    }\n",
       "</style>\n",
       "<table border=\"1\" class=\"dataframe\">\n",
       "  <thead>\n",
       "    <tr style=\"text-align: right;\">\n",
       "      <th></th>\n",
       "      <th>ID</th>\n",
       "      <th>Var6</th>\n",
       "      <th>Var7</th>\n",
       "      <th>Var13</th>\n",
       "      <th>Var21</th>\n",
       "      <th>Var22</th>\n",
       "      <th>Var24</th>\n",
       "      <th>Var25</th>\n",
       "      <th>Var28</th>\n",
       "      <th>Var35</th>\n",
       "      <th>...</th>\n",
       "      <th>Var218</th>\n",
       "      <th>Var219</th>\n",
       "      <th>Var220</th>\n",
       "      <th>Var221</th>\n",
       "      <th>Var222</th>\n",
       "      <th>Var223</th>\n",
       "      <th>Var226</th>\n",
       "      <th>Var227</th>\n",
       "      <th>Var228</th>\n",
       "      <th>labels</th>\n",
       "    </tr>\n",
       "  </thead>\n",
       "  <tbody>\n",
       "    <tr>\n",
       "      <th>0</th>\n",
       "      <td>0</td>\n",
       "      <td>3052.0</td>\n",
       "      <td>7.0</td>\n",
       "      <td>232.0</td>\n",
       "      <td>480.0</td>\n",
       "      <td>600.0</td>\n",
       "      <td>20.0</td>\n",
       "      <td>480.0</td>\n",
       "      <td>200.00</td>\n",
       "      <td>0.0</td>\n",
       "      <td>...</td>\n",
       "      <td>0.0395508</td>\n",
       "      <td>0.0499193</td>\n",
       "      <td>0</td>\n",
       "      <td>0.0469584</td>\n",
       "      <td>0</td>\n",
       "      <td>0.04889</td>\n",
       "      <td>0.0542582</td>\n",
       "      <td>0.0412214</td>\n",
       "      <td>0.0416157</td>\n",
       "      <td>-1.0</td>\n",
       "    </tr>\n",
       "    <tr>\n",
       "      <th>1</th>\n",
       "      <td>1</td>\n",
       "      <td>1813.0</td>\n",
       "      <td>7.0</td>\n",
       "      <td>636.0</td>\n",
       "      <td>212.0</td>\n",
       "      <td>265.0</td>\n",
       "      <td>2.0</td>\n",
       "      <td>128.0</td>\n",
       "      <td>166.56</td>\n",
       "      <td>0.0</td>\n",
       "      <td>...</td>\n",
       "      <td>0.0395508</td>\n",
       "      <td>0.0499193</td>\n",
       "      <td>0</td>\n",
       "      <td>0.0527976</td>\n",
       "      <td>0</td>\n",
       "      <td>0.04889</td>\n",
       "      <td>0.0455718</td>\n",
       "      <td>0.0540989</td>\n",
       "      <td>0.0283745</td>\n",
       "      <td>-1.0</td>\n",
       "    </tr>\n",
       "    <tr>\n",
       "      <th>2</th>\n",
       "      <td>2</td>\n",
       "      <td>1953.0</td>\n",
       "      <td>7.0</td>\n",
       "      <td>448.0</td>\n",
       "      <td>176.0</td>\n",
       "      <td>220.0</td>\n",
       "      <td>0.0</td>\n",
       "      <td>72.0</td>\n",
       "      <td>311.76</td>\n",
       "      <td>0.0</td>\n",
       "      <td>...</td>\n",
       "      <td>0.0538007</td>\n",
       "      <td>0.0499193</td>\n",
       "      <td>0.0264404</td>\n",
       "      <td>0.0404789</td>\n",
       "      <td>0.0264404</td>\n",
       "      <td>0.04889</td>\n",
       "      <td>0.0586555</td>\n",
       "      <td>0.0298765</td>\n",
       "      <td>0.0265372</td>\n",
       "      <td>-1.0</td>\n",
       "    </tr>\n",
       "    <tr>\n",
       "      <th>3</th>\n",
       "      <td>3</td>\n",
       "      <td>1533.0</td>\n",
       "      <td>7.0</td>\n",
       "      <td>4.0</td>\n",
       "      <td>332.0</td>\n",
       "      <td>415.0</td>\n",
       "      <td>0.0</td>\n",
       "      <td>144.0</td>\n",
       "      <td>220.08</td>\n",
       "      <td>5.0</td>\n",
       "      <td>...</td>\n",
       "      <td>0.0395508</td>\n",
       "      <td>0.0499193</td>\n",
       "      <td>0.142857</td>\n",
       "      <td>0.0527976</td>\n",
       "      <td>0.142857</td>\n",
       "      <td>0.04889</td>\n",
       "      <td>0.0455718</td>\n",
       "      <td>0.0540989</td>\n",
       "      <td>0.0566405</td>\n",
       "      <td>1.0</td>\n",
       "    </tr>\n",
       "    <tr>\n",
       "      <th>4</th>\n",
       "      <td>4</td>\n",
       "      <td>686.0</td>\n",
       "      <td>7.0</td>\n",
       "      <td>0.0</td>\n",
       "      <td>160.0</td>\n",
       "      <td>200.0</td>\n",
       "      <td>2.0</td>\n",
       "      <td>48.0</td>\n",
       "      <td>278.00</td>\n",
       "      <td>0.0</td>\n",
       "      <td>...</td>\n",
       "      <td>0.0395508</td>\n",
       "      <td>0.0499193</td>\n",
       "      <td>0</td>\n",
       "      <td>0.0527976</td>\n",
       "      <td>0</td>\n",
       "      <td>0.04889</td>\n",
       "      <td>0.0466387</td>\n",
       "      <td>0.0540989</td>\n",
       "      <td>0.0566405</td>\n",
       "      <td>-1.0</td>\n",
       "    </tr>\n",
       "  </tbody>\n",
       "</table>\n",
       "<p>5 rows × 71 columns</p>\n",
       "</div>"
      ],
      "text/plain": [
       "   ID    Var6  Var7  Var13  Var21  Var22  Var24  Var25   Var28  Var35  ...  \\\n",
       "0   0  3052.0   7.0  232.0  480.0  600.0   20.0  480.0  200.00    0.0  ...   \n",
       "1   1  1813.0   7.0  636.0  212.0  265.0    2.0  128.0  166.56    0.0  ...   \n",
       "2   2  1953.0   7.0  448.0  176.0  220.0    0.0   72.0  311.76    0.0  ...   \n",
       "3   3  1533.0   7.0    4.0  332.0  415.0    0.0  144.0  220.08    5.0  ...   \n",
       "4   4   686.0   7.0    0.0  160.0  200.0    2.0   48.0  278.00    0.0  ...   \n",
       "\n",
       "      Var218     Var219     Var220     Var221     Var222   Var223     Var226  \\\n",
       "0  0.0395508  0.0499193          0  0.0469584          0  0.04889  0.0542582   \n",
       "1  0.0395508  0.0499193          0  0.0527976          0  0.04889  0.0455718   \n",
       "2  0.0538007  0.0499193  0.0264404  0.0404789  0.0264404  0.04889  0.0586555   \n",
       "3  0.0395508  0.0499193   0.142857  0.0527976   0.142857  0.04889  0.0455718   \n",
       "4  0.0395508  0.0499193          0  0.0527976          0  0.04889  0.0466387   \n",
       "\n",
       "      Var227     Var228  labels  \n",
       "0  0.0412214  0.0416157    -1.0  \n",
       "1  0.0540989  0.0283745    -1.0  \n",
       "2  0.0298765  0.0265372    -1.0  \n",
       "3  0.0540989  0.0566405     1.0  \n",
       "4  0.0540989  0.0566405    -1.0  \n",
       "\n",
       "[5 rows x 71 columns]"
      ]
     },
     "execution_count": 177,
     "metadata": {},
     "output_type": "execute_result"
    }
   ],
   "source": [
    "df_train.head()"
   ]
  },
  {
   "cell_type": "code",
   "execution_count": 178,
   "metadata": {},
   "outputs": [
    {
     "data": {
      "text/html": [
       "<div>\n",
       "<style scoped>\n",
       "    .dataframe tbody tr th:only-of-type {\n",
       "        vertical-align: middle;\n",
       "    }\n",
       "\n",
       "    .dataframe tbody tr th {\n",
       "        vertical-align: top;\n",
       "    }\n",
       "\n",
       "    .dataframe thead th {\n",
       "        text-align: right;\n",
       "    }\n",
       "</style>\n",
       "<table border=\"1\" class=\"dataframe\">\n",
       "  <thead>\n",
       "    <tr style=\"text-align: right;\">\n",
       "      <th></th>\n",
       "      <th>ID</th>\n",
       "      <th>Var6</th>\n",
       "      <th>Var7</th>\n",
       "      <th>Var13</th>\n",
       "      <th>Var21</th>\n",
       "      <th>Var22</th>\n",
       "      <th>Var24</th>\n",
       "      <th>Var25</th>\n",
       "      <th>Var28</th>\n",
       "      <th>Var35</th>\n",
       "      <th>...</th>\n",
       "      <th>Var218</th>\n",
       "      <th>Var219</th>\n",
       "      <th>Var220</th>\n",
       "      <th>Var221</th>\n",
       "      <th>Var222</th>\n",
       "      <th>Var223</th>\n",
       "      <th>Var226</th>\n",
       "      <th>Var227</th>\n",
       "      <th>Var228</th>\n",
       "      <th>labels</th>\n",
       "    </tr>\n",
       "  </thead>\n",
       "  <tbody>\n",
       "    <tr>\n",
       "      <th>18299</th>\n",
       "      <td>0</td>\n",
       "      <td>1225.0</td>\n",
       "      <td>7.0</td>\n",
       "      <td>2352.0</td>\n",
       "      <td>180.0</td>\n",
       "      <td>225.0</td>\n",
       "      <td>0.0</td>\n",
       "      <td>56.0</td>\n",
       "      <td>388.08</td>\n",
       "      <td>0.0</td>\n",
       "      <td>...</td>\n",
       "      <td>0.0538007</td>\n",
       "      <td>0.0499193</td>\n",
       "      <td>0.0325077</td>\n",
       "      <td>0.0404789</td>\n",
       "      <td>0.0325077</td>\n",
       "      <td>0.0457344</td>\n",
       "      <td>0.0455718</td>\n",
       "      <td>0.0479167</td>\n",
       "      <td>0.0346821</td>\n",
       "      <td>-1.0</td>\n",
       "    </tr>\n",
       "    <tr>\n",
       "      <th>18300</th>\n",
       "      <td>1</td>\n",
       "      <td>896.0</td>\n",
       "      <td>14.0</td>\n",
       "      <td>1560.0</td>\n",
       "      <td>112.0</td>\n",
       "      <td>140.0</td>\n",
       "      <td>0.0</td>\n",
       "      <td>96.0</td>\n",
       "      <td>133.12</td>\n",
       "      <td>0.0</td>\n",
       "      <td>...</td>\n",
       "      <td>0.0395508</td>\n",
       "      <td>0.0499193</td>\n",
       "      <td>0.0894309</td>\n",
       "      <td>0.0527976</td>\n",
       "      <td>0.0894309</td>\n",
       "      <td>0.04889</td>\n",
       "      <td>0.0455718</td>\n",
       "      <td>0.0540989</td>\n",
       "      <td>0.0566405</td>\n",
       "      <td>-1.0</td>\n",
       "    </tr>\n",
       "    <tr>\n",
       "      <th>18301</th>\n",
       "      <td>2</td>\n",
       "      <td>791.0</td>\n",
       "      <td>7.0</td>\n",
       "      <td>2824.0</td>\n",
       "      <td>172.0</td>\n",
       "      <td>215.0</td>\n",
       "      <td>4.0</td>\n",
       "      <td>16.0</td>\n",
       "      <td>324.48</td>\n",
       "      <td>0.0</td>\n",
       "      <td>...</td>\n",
       "      <td>0.0538007</td>\n",
       "      <td>0.0499193</td>\n",
       "      <td>0</td>\n",
       "      <td>0.0527976</td>\n",
       "      <td>0</td>\n",
       "      <td>0.04889</td>\n",
       "      <td>0.0568603</td>\n",
       "      <td>0.0540989</td>\n",
       "      <td>0.0566405</td>\n",
       "      <td>-1.0</td>\n",
       "    </tr>\n",
       "    <tr>\n",
       "      <th>18302</th>\n",
       "      <td>3</td>\n",
       "      <td>2296.0</td>\n",
       "      <td>7.0</td>\n",
       "      <td>3732.0</td>\n",
       "      <td>480.0</td>\n",
       "      <td>600.0</td>\n",
       "      <td>10.0</td>\n",
       "      <td>104.0</td>\n",
       "      <td>286.96</td>\n",
       "      <td>0.0</td>\n",
       "      <td>...</td>\n",
       "      <td>0.0538007</td>\n",
       "      <td>0.0499193</td>\n",
       "      <td>0.0930233</td>\n",
       "      <td>0.0527976</td>\n",
       "      <td>0.0930233</td>\n",
       "      <td>0.0457344</td>\n",
       "      <td>0.0568603</td>\n",
       "      <td>0.0540989</td>\n",
       "      <td>0.0566405</td>\n",
       "      <td>-1.0</td>\n",
       "    </tr>\n",
       "    <tr>\n",
       "      <th>18303</th>\n",
       "      <td>4</td>\n",
       "      <td>861.0</td>\n",
       "      <td>7.0</td>\n",
       "      <td>232.0</td>\n",
       "      <td>144.0</td>\n",
       "      <td>180.0</td>\n",
       "      <td>2.0</td>\n",
       "      <td>48.0</td>\n",
       "      <td>220.08</td>\n",
       "      <td>0.0</td>\n",
       "      <td>...</td>\n",
       "      <td>0.0538007</td>\n",
       "      <td>0.0499193</td>\n",
       "      <td>0.0571429</td>\n",
       "      <td>0.0527976</td>\n",
       "      <td>0.0571429</td>\n",
       "      <td>0.04889</td>\n",
       "      <td>0.0328698</td>\n",
       "      <td>0.0540989</td>\n",
       "      <td>0.0566405</td>\n",
       "      <td>-1.0</td>\n",
       "    </tr>\n",
       "  </tbody>\n",
       "</table>\n",
       "<p>5 rows × 71 columns</p>\n",
       "</div>"
      ],
      "text/plain": [
       "       ID    Var6  Var7   Var13  Var21  Var22  Var24  Var25   Var28  Var35  \\\n",
       "18299   0  1225.0   7.0  2352.0  180.0  225.0    0.0   56.0  388.08    0.0   \n",
       "18300   1   896.0  14.0  1560.0  112.0  140.0    0.0   96.0  133.12    0.0   \n",
       "18301   2   791.0   7.0  2824.0  172.0  215.0    4.0   16.0  324.48    0.0   \n",
       "18302   3  2296.0   7.0  3732.0  480.0  600.0   10.0  104.0  286.96    0.0   \n",
       "18303   4   861.0   7.0   232.0  144.0  180.0    2.0   48.0  220.08    0.0   \n",
       "\n",
       "       ...     Var218     Var219     Var220     Var221     Var222     Var223  \\\n",
       "18299  ...  0.0538007  0.0499193  0.0325077  0.0404789  0.0325077  0.0457344   \n",
       "18300  ...  0.0395508  0.0499193  0.0894309  0.0527976  0.0894309    0.04889   \n",
       "18301  ...  0.0538007  0.0499193          0  0.0527976          0    0.04889   \n",
       "18302  ...  0.0538007  0.0499193  0.0930233  0.0527976  0.0930233  0.0457344   \n",
       "18303  ...  0.0538007  0.0499193  0.0571429  0.0527976  0.0571429    0.04889   \n",
       "\n",
       "          Var226     Var227     Var228  labels  \n",
       "18299  0.0455718  0.0479167  0.0346821    -1.0  \n",
       "18300  0.0455718  0.0540989  0.0566405    -1.0  \n",
       "18301  0.0568603  0.0540989  0.0566405    -1.0  \n",
       "18302  0.0568603  0.0540989  0.0566405    -1.0  \n",
       "18303  0.0328698  0.0540989  0.0566405    -1.0  \n",
       "\n",
       "[5 rows x 71 columns]"
      ]
     },
     "execution_count": 178,
     "metadata": {},
     "output_type": "execute_result"
    }
   ],
   "source": [
    "df_test.head()"
   ]
  },
  {
   "cell_type": "code",
   "execution_count": 202,
   "metadata": {},
   "outputs": [],
   "source": [
    "X = df_train.drop(['labels', 'ID'], axis=1)\n",
    "y = df_train.labels\n",
    "X_test = df_test.drop(['labels', 'ID'], axis=1)"
   ]
  },
  {
   "cell_type": "markdown",
   "metadata": {},
   "source": [
    "Разобьем выборку на обучающую и валидационную:"
   ]
  },
  {
   "cell_type": "code",
   "execution_count": 203,
   "metadata": {},
   "outputs": [],
   "source": [
    "X_train, X_valid, y_train, y_valid = train_test_split(X, y, test_size=0.2, stratify=y)"
   ]
  },
  {
   "cell_type": "markdown",
   "metadata": {},
   "source": [
    "Построение алгоритма:"
   ]
  },
  {
   "cell_type": "code",
   "execution_count": 181,
   "metadata": {
    "scrolled": true
   },
   "outputs": [
    {
     "data": {
      "text/plain": [
       "0.9847616489861689"
      ]
     },
     "execution_count": 181,
     "metadata": {},
     "output_type": "execute_result"
    }
   ],
   "source": [
    "clf = RandomForestClassifier(n_estimators=100, class_weight='balanced', max_features='sqrt')\n",
    "clf.fit(X_train, y_train)\n",
    "roc_auc_score(y_valid, clf.predict_proba(X_valid)[:, 1])"
   ]
  },
  {
   "cell_type": "markdown",
   "metadata": {},
   "source": [
    "Видим хорошее качество. Попробуем применить модель на тестовых данных."
   ]
  },
  {
   "cell_type": "code",
   "execution_count": 182,
   "metadata": {},
   "outputs": [],
   "source": [
    "ans = pd.DataFrame({'ID': df_test.ID,  'result': clf.predict_proba(X_test)[:, 1]})"
   ]
  },
  {
   "cell_type": "code",
   "execution_count": 183,
   "metadata": {},
   "outputs": [],
   "source": [
    "ans.to_csv('kaggle.csv', index=False)"
   ]
  },
  {
   "cell_type": "markdown",
   "metadata": {},
   "source": [
    "## Градиентный бустинг"
   ]
  },
  {
   "cell_type": "code",
   "execution_count": 189,
   "metadata": {},
   "outputs": [
    {
     "name": "stdout",
     "output_type": "stream",
     "text": [
      "0:\tlearn: 0.5500831\ttotal: 14.1ms\tremaining: 56.4ms\n",
      "1:\tlearn: 0.4259721\ttotal: 27.6ms\tremaining: 41.3ms\n",
      "2:\tlearn: 0.3525367\ttotal: 46.2ms\tremaining: 30.8ms\n",
      "3:\tlearn: 0.2859349\ttotal: 75.6ms\tremaining: 18.9ms\n",
      "4:\tlearn: 0.2245337\ttotal: 93.4ms\tremaining: 0us\n"
     ]
    },
    {
     "data": {
      "text/plain": [
       "0.9697816570431046"
      ]
     },
     "execution_count": 189,
     "metadata": {},
     "output_type": "execute_result"
    }
   ],
   "source": [
    "cat_boost = CatBoostClassifier(iterations=5, learning_rate=0.1, depth=3, subsample=0.5)\n",
    "cat_boost.fit(X_train, y_train)\n",
    "roc_auc_score(y_valid, cat_boost.predict_proba(X_valid)[:, 1])"
   ]
  },
  {
   "cell_type": "code",
   "execution_count": 190,
   "metadata": {},
   "outputs": [],
   "source": [
    "ans = pd.DataFrame({'ID': data_test.ID,  'result': cat_boost.predict_proba(X_test)[:, 1]})"
   ]
  },
  {
   "cell_type": "code",
   "execution_count": 191,
   "metadata": {},
   "outputs": [],
   "source": [
    "ans.to_csv('kaggle.csv', index=False)"
   ]
  },
  {
   "cell_type": "markdown",
   "metadata": {},
   "source": [
    "На тесте CatBoost показал качество лучше, чем RF. Проверим еще одну модель, и по результатам выберем лучшую, которую будем оптимизировать.\n",
    "## Линейная модель\n",
    "При использовании линейной моедли необходимо масштабировать данные."
   ]
  },
  {
   "cell_type": "code",
   "execution_count": 209,
   "metadata": {},
   "outputs": [],
   "source": [
    "pipeline = Pipeline([\n",
    "    ('scaler', StandardScaler()),\n",
    "    ('clf', LogisticRegression(class_weight='balanced', max_iter=5000))\n",
    "])"
   ]
  },
  {
   "cell_type": "code",
   "execution_count": 210,
   "metadata": {},
   "outputs": [
    {
     "data": {
      "text/plain": [
       "Pipeline(steps=[('scaler', StandardScaler()),\n",
       "                ('clf',\n",
       "                 LogisticRegression(class_weight='balanced', max_iter=5000))])"
      ]
     },
     "execution_count": 210,
     "metadata": {},
     "output_type": "execute_result"
    }
   ],
   "source": [
    "pipeline.fit(X_train, y_train)"
   ]
  },
  {
   "cell_type": "code",
   "execution_count": 211,
   "metadata": {},
   "outputs": [
    {
     "data": {
      "text/plain": [
       "0.9738074392372766"
      ]
     },
     "execution_count": 211,
     "metadata": {},
     "output_type": "execute_result"
    }
   ],
   "source": [
    "roc_auc_score(y_valid, pipeline.predict_proba(X_valid)[:, 1])"
   ]
  },
  {
   "cell_type": "code",
   "execution_count": 212,
   "metadata": {},
   "outputs": [],
   "source": [
    "ans = pd.DataFrame({'ID': data_test.ID,  'result': pipeline.predict_proba(X_test)[:, 1]})\n",
    "ans.to_csv('kaggle.csv', index=False)"
   ]
  },
  {
   "cell_type": "markdown",
   "metadata": {},
   "source": [
    "На тесте лучшее качество показала логистическая регрессия, будем ее оптимизировать."
   ]
  },
  {
   "cell_type": "code",
   "execution_count": 216,
   "metadata": {},
   "outputs": [],
   "source": [
    "kfold = StratifiedKFold(shuffle=True)\n",
    "param_grid = {'clf__C': [0.01, 0.05, 0.1, 0.5, 1, 5, 10]}\n",
    "optimizer = GridSearchCV(pipeline, param_grid, cv=kfold)"
   ]
  },
  {
   "cell_type": "code",
   "execution_count": 217,
   "metadata": {},
   "outputs": [
    {
     "data": {
      "text/plain": [
       "0.9751266281724185"
      ]
     },
     "execution_count": 217,
     "metadata": {},
     "output_type": "execute_result"
    }
   ],
   "source": [
    "optimizer.fit(X_train, y_train)\n",
    "roc_auc_score(y_valid, optimizer.predict_proba(X_valid)[:, 1])"
   ]
  },
  {
   "cell_type": "code",
   "execution_count": 218,
   "metadata": {},
   "outputs": [],
   "source": [
    "ans = pd.DataFrame({'ID': data_test.ID,  'result': optimizer.predict_proba(X_test)[:, 1]})\n",
    "ans.to_csv('kaggle.csv', index=False)"
   ]
  },
  {
   "cell_type": "markdown",
   "metadata": {},
   "source": [
    "Оптимизация качество не улучшила, необходимо по-другому предобработать данные."
   ]
  },
  {
   "cell_type": "code",
   "execution_count": 222,
   "metadata": {},
   "outputs": [],
   "source": [
    "data_train.drop(18298, axis=0, inplace=True) # удаление неразмеченного объекта"
   ]
  },
  {
   "cell_type": "markdown",
   "metadata": {},
   "source": [
    "## Другая обработка категориальных признаков"
   ]
  },
  {
   "cell_type": "code",
   "execution_count": 267,
   "metadata": {},
   "outputs": [],
   "source": [
    "class preparation_log_reg():\n",
    "    def __init__(self):\n",
    "        pass\n",
    "    def preprocess(self, df):\n",
    "        df = self.drop(df)\n",
    "        df = self.fill_missing_values(df)\n",
    "        df = self.cat_preprocess(df)\n",
    "        return df\n",
    "    def drop(self, df):\n",
    "        df = df.drop(drop_columns, axis=1) # удаление признаков, у которых более 50% пропущенных значений\n",
    "        return df\n",
    "    def fill_missing_values(self, df):\n",
    "        df = df.fillna(df.mean(axis=0), axis=0) # среди числовых признаков заменим пропуски средними значениями\n",
    "        df = df.fillna(\"NA\", axis=0) # для категориальных признаков заменим пропуски на отдельную категорию \"NA\"\n",
    "        return df\n",
    "    def cat_preprocess(self, df):\n",
    "        # Для обработки категориальных признаков воспользуемся OneHotEncoder (dummy кодирование) для признаков, \n",
    "        # которые принимают меньше 10 значений. Остальные признаки закодируем с помощью LabelEncoder.\n",
    "        one_hot_col = [column for column in df.columns if column in cat_col and len(df[column].value_counts()) < 10]\n",
    "        label_col = [column for column in df.columns if column in cat_col and len(df[column].value_counts()) >= 10]\n",
    "        df = pd.get_dummies(df, drop_first=True, columns=one_hot_col) # one-hot кодирование\n",
    "        for column in label_col:\n",
    "            df[column] = LabelEncoder().fit_transform(df[column]) # label кодирование\n",
    "        return df"
   ]
  },
  {
   "cell_type": "code",
   "execution_count": 268,
   "metadata": {
    "scrolled": true
   },
   "outputs": [
    {
     "data": {
      "text/html": [
       "<div>\n",
       "<style scoped>\n",
       "    .dataframe tbody tr th:only-of-type {\n",
       "        vertical-align: middle;\n",
       "    }\n",
       "\n",
       "    .dataframe tbody tr th {\n",
       "        vertical-align: top;\n",
       "    }\n",
       "\n",
       "    .dataframe thead th {\n",
       "        text-align: right;\n",
       "    }\n",
       "</style>\n",
       "<table border=\"1\" class=\"dataframe\">\n",
       "  <thead>\n",
       "    <tr style=\"text-align: right;\">\n",
       "      <th></th>\n",
       "      <th>ID</th>\n",
       "      <th>Var6</th>\n",
       "      <th>Var7</th>\n",
       "      <th>Var13</th>\n",
       "      <th>Var21</th>\n",
       "      <th>Var22</th>\n",
       "      <th>Var24</th>\n",
       "      <th>Var25</th>\n",
       "      <th>Var28</th>\n",
       "      <th>Var35</th>\n",
       "      <th>...</th>\n",
       "      <th>Var223_NA</th>\n",
       "      <th>Var223_bCPvVye</th>\n",
       "      <th>Var223_jySVZNlOJy</th>\n",
       "      <th>Var227_6fzt</th>\n",
       "      <th>Var227_NA</th>\n",
       "      <th>Var227_RAYp</th>\n",
       "      <th>Var227_ZI9m</th>\n",
       "      <th>Var227_nIGXDli</th>\n",
       "      <th>Var227_nIGjgSB</th>\n",
       "      <th>Var227_vJ_w8kB</th>\n",
       "    </tr>\n",
       "  </thead>\n",
       "  <tbody>\n",
       "    <tr>\n",
       "      <th>0</th>\n",
       "      <td>0</td>\n",
       "      <td>3052.0</td>\n",
       "      <td>6.829275</td>\n",
       "      <td>1210.97185</td>\n",
       "      <td>480.0</td>\n",
       "      <td>600.0</td>\n",
       "      <td>20.0</td>\n",
       "      <td>480.0</td>\n",
       "      <td>200.00</td>\n",
       "      <td>0.0</td>\n",
       "      <td>...</td>\n",
       "      <td>0</td>\n",
       "      <td>0</td>\n",
       "      <td>0</td>\n",
       "      <td>0</td>\n",
       "      <td>0</td>\n",
       "      <td>0</td>\n",
       "      <td>0</td>\n",
       "      <td>0</td>\n",
       "      <td>0</td>\n",
       "      <td>0</td>\n",
       "    </tr>\n",
       "    <tr>\n",
       "      <th>1</th>\n",
       "      <td>1</td>\n",
       "      <td>1813.0</td>\n",
       "      <td>7.000000</td>\n",
       "      <td>636.00000</td>\n",
       "      <td>212.0</td>\n",
       "      <td>265.0</td>\n",
       "      <td>2.0</td>\n",
       "      <td>128.0</td>\n",
       "      <td>166.56</td>\n",
       "      <td>0.0</td>\n",
       "      <td>...</td>\n",
       "      <td>0</td>\n",
       "      <td>0</td>\n",
       "      <td>0</td>\n",
       "      <td>0</td>\n",
       "      <td>0</td>\n",
       "      <td>1</td>\n",
       "      <td>0</td>\n",
       "      <td>0</td>\n",
       "      <td>0</td>\n",
       "      <td>0</td>\n",
       "    </tr>\n",
       "    <tr>\n",
       "      <th>2</th>\n",
       "      <td>2</td>\n",
       "      <td>1953.0</td>\n",
       "      <td>7.000000</td>\n",
       "      <td>448.00000</td>\n",
       "      <td>176.0</td>\n",
       "      <td>220.0</td>\n",
       "      <td>0.0</td>\n",
       "      <td>72.0</td>\n",
       "      <td>311.76</td>\n",
       "      <td>0.0</td>\n",
       "      <td>...</td>\n",
       "      <td>0</td>\n",
       "      <td>0</td>\n",
       "      <td>0</td>\n",
       "      <td>0</td>\n",
       "      <td>0</td>\n",
       "      <td>0</td>\n",
       "      <td>1</td>\n",
       "      <td>0</td>\n",
       "      <td>0</td>\n",
       "      <td>0</td>\n",
       "    </tr>\n",
       "    <tr>\n",
       "      <th>3</th>\n",
       "      <td>3</td>\n",
       "      <td>1533.0</td>\n",
       "      <td>7.000000</td>\n",
       "      <td>4.00000</td>\n",
       "      <td>332.0</td>\n",
       "      <td>415.0</td>\n",
       "      <td>0.0</td>\n",
       "      <td>144.0</td>\n",
       "      <td>220.08</td>\n",
       "      <td>5.0</td>\n",
       "      <td>...</td>\n",
       "      <td>0</td>\n",
       "      <td>0</td>\n",
       "      <td>0</td>\n",
       "      <td>0</td>\n",
       "      <td>0</td>\n",
       "      <td>1</td>\n",
       "      <td>0</td>\n",
       "      <td>0</td>\n",
       "      <td>0</td>\n",
       "      <td>0</td>\n",
       "    </tr>\n",
       "    <tr>\n",
       "      <th>4</th>\n",
       "      <td>4</td>\n",
       "      <td>686.0</td>\n",
       "      <td>7.000000</td>\n",
       "      <td>0.00000</td>\n",
       "      <td>160.0</td>\n",
       "      <td>200.0</td>\n",
       "      <td>2.0</td>\n",
       "      <td>48.0</td>\n",
       "      <td>278.00</td>\n",
       "      <td>0.0</td>\n",
       "      <td>...</td>\n",
       "      <td>0</td>\n",
       "      <td>0</td>\n",
       "      <td>0</td>\n",
       "      <td>0</td>\n",
       "      <td>0</td>\n",
       "      <td>1</td>\n",
       "      <td>0</td>\n",
       "      <td>0</td>\n",
       "      <td>0</td>\n",
       "      <td>0</td>\n",
       "    </tr>\n",
       "  </tbody>\n",
       "</table>\n",
       "<p>5 rows × 99 columns</p>\n",
       "</div>"
      ],
      "text/plain": [
       "   ID    Var6      Var7       Var13  Var21  Var22  Var24  Var25   Var28  \\\n",
       "0   0  3052.0  6.829275  1210.97185  480.0  600.0   20.0  480.0  200.00   \n",
       "1   1  1813.0  7.000000   636.00000  212.0  265.0    2.0  128.0  166.56   \n",
       "2   2  1953.0  7.000000   448.00000  176.0  220.0    0.0   72.0  311.76   \n",
       "3   3  1533.0  7.000000     4.00000  332.0  415.0    0.0  144.0  220.08   \n",
       "4   4   686.0  7.000000     0.00000  160.0  200.0    2.0   48.0  278.00   \n",
       "\n",
       "   Var35  ...  Var223_NA  Var223_bCPvVye  Var223_jySVZNlOJy  Var227_6fzt  \\\n",
       "0    0.0  ...          0               0                  0            0   \n",
       "1    0.0  ...          0               0                  0            0   \n",
       "2    0.0  ...          0               0                  0            0   \n",
       "3    5.0  ...          0               0                  0            0   \n",
       "4    0.0  ...          0               0                  0            0   \n",
       "\n",
       "   Var227_NA  Var227_RAYp  Var227_ZI9m  Var227_nIGXDli  Var227_nIGjgSB  \\\n",
       "0          0            0            0               0               0   \n",
       "1          0            1            0               0               0   \n",
       "2          0            0            1               0               0   \n",
       "3          0            1            0               0               0   \n",
       "4          0            1            0               0               0   \n",
       "\n",
       "   Var227_vJ_w8kB  \n",
       "0               0  \n",
       "1               0  \n",
       "2               0  \n",
       "3               0  \n",
       "4               0  \n",
       "\n",
       "[5 rows x 99 columns]"
      ]
     },
     "execution_count": 268,
     "metadata": {},
     "output_type": "execute_result"
    }
   ],
   "source": [
    "data_preparation = preparation_log_reg()\n",
    "df_lin = data_preparation.preprocess(data)\n",
    "df_lin.head()"
   ]
  },
  {
   "cell_type": "code",
   "execution_count": 269,
   "metadata": {},
   "outputs": [],
   "source": [
    "df_train_lin = df_lin[:18298]\n",
    "df_test_lin= df_lin[18299:]"
   ]
  },
  {
   "cell_type": "code",
   "execution_count": 271,
   "metadata": {},
   "outputs": [],
   "source": [
    "X_lin = df_train_lin.drop(['labels', 'ID'], axis=1)\n",
    "y_lin = df_train_lin.labels\n",
    "X_test_lin = df_test_lin.drop(['labels', 'ID'], axis=1)"
   ]
  },
  {
   "cell_type": "code",
   "execution_count": 272,
   "metadata": {},
   "outputs": [],
   "source": [
    "X_train_lin, X_valid_lin, y_train_lin, y_valid_lin = train_test_split(X_lin, y_lin, test_size=0.2, stratify=y_lin)"
   ]
  },
  {
   "cell_type": "code",
   "execution_count": 273,
   "metadata": {},
   "outputs": [
    {
     "data": {
      "text/plain": [
       "0.6662763528937827"
      ]
     },
     "execution_count": 273,
     "metadata": {},
     "output_type": "execute_result"
    }
   ],
   "source": [
    "pipeline.fit(X_train_lin, y_train_lin)\n",
    "roc_auc_score(y_valid_lin, pipeline.predict_proba(X_valid_lin)[:, 1])"
   ]
  },
  {
   "cell_type": "code",
   "execution_count": 274,
   "metadata": {},
   "outputs": [],
   "source": [
    "ans = pd.DataFrame({'ID': data_test.ID,  'result': pipeline.predict_proba(X_test_lin)[:, 1]})\n",
    "ans.to_csv('kaggle.csv', index=False)"
   ]
  },
  {
   "cell_type": "markdown",
   "metadata": {},
   "source": [
    "## CatBoost самостоятельно обрабатывает категориальные признаки"
   ]
  },
  {
   "cell_type": "code",
   "execution_count": 7,
   "metadata": {},
   "outputs": [],
   "source": [
    "data_train = data_train.drop([18298], axis=0) # удаление последнего неинформативного объекта"
   ]
  },
  {
   "cell_type": "code",
   "execution_count": 8,
   "metadata": {},
   "outputs": [],
   "source": [
    "class preparation():\n",
    "    def __init__(self):\n",
    "        pass\n",
    "    def preprocess(self, df):\n",
    "        df = self.fill_missing_values(df)\n",
    "        return df\n",
    "    def fill_missing_values(self, df):\n",
    "        df_num = df[num_col].fillna(0) # среди числовых признаков заменим пропуски нулевыми значениями\n",
    "        df_cat = df[cat_col].fillna(\"NA\", axis=0) \n",
    "        df = pd.concat([df_num, df_cat, data.labels], axis=1)\n",
    "        return df"
   ]
  },
  {
   "cell_type": "markdown",
   "metadata": {},
   "source": [
    "Все действия такие же как и на предыдущих шагах."
   ]
  },
  {
   "cell_type": "code",
   "execution_count": 9,
   "metadata": {
    "scrolled": false
   },
   "outputs": [
    {
     "data": {
      "text/html": [
       "<div>\n",
       "<style scoped>\n",
       "    .dataframe tbody tr th:only-of-type {\n",
       "        vertical-align: middle;\n",
       "    }\n",
       "\n",
       "    .dataframe tbody tr th {\n",
       "        vertical-align: top;\n",
       "    }\n",
       "\n",
       "    .dataframe thead th {\n",
       "        text-align: right;\n",
       "    }\n",
       "</style>\n",
       "<table border=\"1\" class=\"dataframe\">\n",
       "  <thead>\n",
       "    <tr style=\"text-align: right;\">\n",
       "      <th></th>\n",
       "      <th>ID</th>\n",
       "      <th>Var1</th>\n",
       "      <th>Var2</th>\n",
       "      <th>Var3</th>\n",
       "      <th>Var4</th>\n",
       "      <th>Var5</th>\n",
       "      <th>Var6</th>\n",
       "      <th>Var7</th>\n",
       "      <th>Var8</th>\n",
       "      <th>Var9</th>\n",
       "      <th>...</th>\n",
       "      <th>Var222</th>\n",
       "      <th>Var223</th>\n",
       "      <th>Var224</th>\n",
       "      <th>Var225</th>\n",
       "      <th>Var226</th>\n",
       "      <th>Var227</th>\n",
       "      <th>Var228</th>\n",
       "      <th>Var229</th>\n",
       "      <th>Var230</th>\n",
       "      <th>labels</th>\n",
       "    </tr>\n",
       "  </thead>\n",
       "  <tbody>\n",
       "    <tr>\n",
       "      <th>0</th>\n",
       "      <td>0</td>\n",
       "      <td>0.0</td>\n",
       "      <td>0.0</td>\n",
       "      <td>0.0</td>\n",
       "      <td>0.0</td>\n",
       "      <td>0.0</td>\n",
       "      <td>3052.0</td>\n",
       "      <td>0.0</td>\n",
       "      <td>0.0</td>\n",
       "      <td>0.0</td>\n",
       "      <td>...</td>\n",
       "      <td>vr93T2a</td>\n",
       "      <td>LM8l689qOp</td>\n",
       "      <td>NA</td>\n",
       "      <td>NA</td>\n",
       "      <td>fKCe</td>\n",
       "      <td>02N6s8f</td>\n",
       "      <td>xwM2aC7IdeMC0</td>\n",
       "      <td>NA</td>\n",
       "      <td>NA</td>\n",
       "      <td>-1.0</td>\n",
       "    </tr>\n",
       "    <tr>\n",
       "      <th>1</th>\n",
       "      <td>1</td>\n",
       "      <td>0.0</td>\n",
       "      <td>0.0</td>\n",
       "      <td>0.0</td>\n",
       "      <td>0.0</td>\n",
       "      <td>0.0</td>\n",
       "      <td>1813.0</td>\n",
       "      <td>7.0</td>\n",
       "      <td>0.0</td>\n",
       "      <td>0.0</td>\n",
       "      <td>...</td>\n",
       "      <td>6hQ9lNX</td>\n",
       "      <td>LM8l689qOp</td>\n",
       "      <td>NA</td>\n",
       "      <td>ELof</td>\n",
       "      <td>xb3V</td>\n",
       "      <td>RAYp</td>\n",
       "      <td>55YFVY9</td>\n",
       "      <td>mj86</td>\n",
       "      <td>NA</td>\n",
       "      <td>-1.0</td>\n",
       "    </tr>\n",
       "    <tr>\n",
       "      <th>2</th>\n",
       "      <td>2</td>\n",
       "      <td>0.0</td>\n",
       "      <td>0.0</td>\n",
       "      <td>0.0</td>\n",
       "      <td>0.0</td>\n",
       "      <td>0.0</td>\n",
       "      <td>1953.0</td>\n",
       "      <td>7.0</td>\n",
       "      <td>0.0</td>\n",
       "      <td>0.0</td>\n",
       "      <td>...</td>\n",
       "      <td>catzS2D</td>\n",
       "      <td>LM8l689qOp</td>\n",
       "      <td>NA</td>\n",
       "      <td>NA</td>\n",
       "      <td>FSa2</td>\n",
       "      <td>ZI9m</td>\n",
       "      <td>ib5G6X1eUxUn6</td>\n",
       "      <td>mj86</td>\n",
       "      <td>NA</td>\n",
       "      <td>-1.0</td>\n",
       "    </tr>\n",
       "    <tr>\n",
       "      <th>3</th>\n",
       "      <td>3</td>\n",
       "      <td>0.0</td>\n",
       "      <td>0.0</td>\n",
       "      <td>0.0</td>\n",
       "      <td>0.0</td>\n",
       "      <td>0.0</td>\n",
       "      <td>1533.0</td>\n",
       "      <td>7.0</td>\n",
       "      <td>0.0</td>\n",
       "      <td>0.0</td>\n",
       "      <td>...</td>\n",
       "      <td>e4lqvY0</td>\n",
       "      <td>LM8l689qOp</td>\n",
       "      <td>NA</td>\n",
       "      <td>NA</td>\n",
       "      <td>xb3V</td>\n",
       "      <td>RAYp</td>\n",
       "      <td>F2FyR07IdsN7I</td>\n",
       "      <td>NA</td>\n",
       "      <td>NA</td>\n",
       "      <td>1.0</td>\n",
       "    </tr>\n",
       "    <tr>\n",
       "      <th>4</th>\n",
       "      <td>4</td>\n",
       "      <td>0.0</td>\n",
       "      <td>0.0</td>\n",
       "      <td>0.0</td>\n",
       "      <td>0.0</td>\n",
       "      <td>0.0</td>\n",
       "      <td>686.0</td>\n",
       "      <td>7.0</td>\n",
       "      <td>0.0</td>\n",
       "      <td>0.0</td>\n",
       "      <td>...</td>\n",
       "      <td>MAz3HNj</td>\n",
       "      <td>LM8l689qOp</td>\n",
       "      <td>NA</td>\n",
       "      <td>NA</td>\n",
       "      <td>WqMG</td>\n",
       "      <td>RAYp</td>\n",
       "      <td>F2FyR07IdsN7I</td>\n",
       "      <td>NA</td>\n",
       "      <td>NA</td>\n",
       "      <td>-1.0</td>\n",
       "    </tr>\n",
       "  </tbody>\n",
       "</table>\n",
       "<p>5 rows × 231 columns</p>\n",
       "</div>"
      ],
      "text/plain": [
       "   ID  Var1  Var2  Var3  Var4  Var5    Var6  Var7  Var8  Var9  ...   Var222  \\\n",
       "0   0   0.0   0.0   0.0   0.0   0.0  3052.0   0.0   0.0   0.0  ...  vr93T2a   \n",
       "1   1   0.0   0.0   0.0   0.0   0.0  1813.0   7.0   0.0   0.0  ...  6hQ9lNX   \n",
       "2   2   0.0   0.0   0.0   0.0   0.0  1953.0   7.0   0.0   0.0  ...  catzS2D   \n",
       "3   3   0.0   0.0   0.0   0.0   0.0  1533.0   7.0   0.0   0.0  ...  e4lqvY0   \n",
       "4   4   0.0   0.0   0.0   0.0   0.0   686.0   7.0   0.0   0.0  ...  MAz3HNj   \n",
       "\n",
       "       Var223  Var224  Var225  Var226   Var227         Var228  Var229  Var230  \\\n",
       "0  LM8l689qOp      NA      NA    fKCe  02N6s8f  xwM2aC7IdeMC0      NA      NA   \n",
       "1  LM8l689qOp      NA    ELof    xb3V     RAYp        55YFVY9    mj86      NA   \n",
       "2  LM8l689qOp      NA      NA    FSa2     ZI9m  ib5G6X1eUxUn6    mj86      NA   \n",
       "3  LM8l689qOp      NA      NA    xb3V     RAYp  F2FyR07IdsN7I      NA      NA   \n",
       "4  LM8l689qOp      NA      NA    WqMG     RAYp  F2FyR07IdsN7I      NA      NA   \n",
       "\n",
       "   labels  \n",
       "0    -1.0  \n",
       "1    -1.0  \n",
       "2    -1.0  \n",
       "3     1.0  \n",
       "4    -1.0  \n",
       "\n",
       "[5 rows x 231 columns]"
      ]
     },
     "execution_count": 9,
     "metadata": {},
     "output_type": "execute_result"
    }
   ],
   "source": [
    "data_preparation = preparation()\n",
    "df_cat = data_preparation.preprocess(data)\n",
    "df_cat.head()"
   ]
  },
  {
   "cell_type": "code",
   "execution_count": 10,
   "metadata": {},
   "outputs": [],
   "source": [
    "df_train_cat = df_cat[:18298]\n",
    "df_test_cat= df_cat[18299:]"
   ]
  },
  {
   "cell_type": "code",
   "execution_count": 11,
   "metadata": {},
   "outputs": [],
   "source": [
    "X_cat = df_train_cat.drop(['labels', 'ID'], axis=1)\n",
    "y_cat = df_train_cat[['labels']]\n",
    "X_test_cat = df_test_cat.drop(['labels', 'ID'], axis=1)"
   ]
  },
  {
   "cell_type": "code",
   "execution_count": 19,
   "metadata": {},
   "outputs": [],
   "source": [
    "X_train_cat, X_valid_cat, y_train_cat, y_valid_cat = train_test_split(X_cat, y_cat, test_size=0.2, stratify=y_cat)"
   ]
  },
  {
   "cell_type": "code",
   "execution_count": 13,
   "metadata": {
    "scrolled": true
   },
   "outputs": [],
   "source": [
    "cat_features = [column for column in X_train_cat.columns if column in cat_col] # категориальные признаки"
   ]
  },
  {
   "cell_type": "code",
   "execution_count": 20,
   "metadata": {},
   "outputs": [
    {
     "data": {
      "text/plain": [
       "<catboost.core.CatBoostClassifier at 0x28d63800940>"
      ]
     },
     "execution_count": 20,
     "metadata": {},
     "output_type": "execute_result"
    }
   ],
   "source": [
    "# Построение и обучение модели\n",
    "model = CatBoostClassifier(iterations=300, learning_rate=0.1, depth=2)\n",
    "model.fit(\n",
    "    X_train_cat, y_train_cat,\n",
    "    cat_features=cat_features,\n",
    "    eval_set=(X_valid_cat, y_valid_cat),\n",
    "    verbose=False\n",
    ")"
   ]
  },
  {
   "cell_type": "code",
   "execution_count": 22,
   "metadata": {},
   "outputs": [
    {
     "data": {
      "text/plain": [
       "0.7338095877534577"
      ]
     },
     "execution_count": 22,
     "metadata": {},
     "output_type": "execute_result"
    }
   ],
   "source": [
    "# Оценка качества\n",
    "roc_auc_score(y_valid_cat, model.predict_proba(X_valid_cat)[:, 1])"
   ]
  },
  {
   "cell_type": "code",
   "execution_count": 23,
   "metadata": {},
   "outputs": [],
   "source": [
    "ans = pd.DataFrame({'ID': data_test.ID,  'result': model.predict_proba(X_test_cat)[:, 1]})"
   ]
  },
  {
   "cell_type": "code",
   "execution_count": 24,
   "metadata": {},
   "outputs": [],
   "source": [
    "ans.to_csv('kaggle.csv', index=False)"
   ]
  },
  {
   "cell_type": "markdown",
   "metadata": {},
   "source": [
    "CatBoost имеет атрибут feature_importances_, который показывает значимость каждого признака."
   ]
  },
  {
   "cell_type": "code",
   "execution_count": 340,
   "metadata": {},
   "outputs": [],
   "source": [
    "importances = model.feature_importances_\n",
    "indices = np.argsort(importances)[::-1]"
   ]
  },
  {
   "cell_type": "code",
   "execution_count": 177,
   "metadata": {},
   "outputs": [
    {
     "data": {
      "image/png": "[encoded data removed]",
      "text/plain": [
       "<Figure size 1152x576 with 1 Axes>"
      ]
     },
     "metadata": {
      "needs_background": "light"
     },
     "output_type": "display_data"
    }
   ],
   "source": [
    "d_first = 35\n",
    "plt.figure(figsize=(16, 8))\n",
    "plt.title(\"Feature importances\")\n",
    "plt.bar(range(d_first), importances[indices[:d_first]], align='center')\n",
    "plt.xticks(range(d_first), np.array(X_train_cat.columns)[indices[:d_first]], rotation=90)\n",
    "plt.xlim([-1, d_first]);"
   ]
  },
  {
   "cell_type": "markdown",
   "metadata": {},
   "source": [
    "Удалим последние 35 признаков:"
   ]
  },
  {
   "cell_type": "code",
   "execution_count": 178,
   "metadata": {},
   "outputs": [],
   "source": [
    "new_drop_columns =  X_train_cat.columns[np.argsort(importances)[:35]]"
   ]
  },
  {
   "cell_type": "code",
   "execution_count": 179,
   "metadata": {},
   "outputs": [
    {
     "data": {
      "text/plain": [
       "Index(['Var1', 'Var117', 'Var120', 'Var121', 'Var122', 'Var124', 'Var128',\n",
       "       'Var129', 'Var116', 'Var130', 'Var135', 'Var136', 'Var137', 'Var138',\n",
       "       'Var139', 'Var141', 'Var142', 'Var131', 'Var111', 'Var110', 'Var108',\n",
       "       'Var86', 'Var87', 'Var88', 'Var89', 'Var90', 'Var91', 'Var93', 'Var94',\n",
       "       'Var96', 'Var98', 'Var99', 'Var100', 'Var101', 'Var102'],\n",
       "      dtype='object')"
      ]
     },
     "execution_count": 179,
     "metadata": {},
     "output_type": "execute_result"
    }
   ],
   "source": [
    "new_drop_columns"
   ]
  },
  {
   "cell_type": "code",
   "execution_count": 180,
   "metadata": {},
   "outputs": [],
   "source": [
    "new_X_train_cat = X_train_cat.drop(new_drop_columns, axis=1)\n",
    "new_X_test_cat = X_test_cat.drop(new_drop_columns, axis=1)\n",
    "new_X_valid_cat = X_valid_cat.drop(new_drop_columns, axis=1)"
   ]
  },
  {
   "cell_type": "code",
   "execution_count": 181,
   "metadata": {},
   "outputs": [],
   "source": [
    "new_cat_features = [column for column in new_X_train_cat.columns if column in cat_col]"
   ]
  },
  {
   "cell_type": "code",
   "execution_count": 182,
   "metadata": {},
   "outputs": [
    {
     "data": {
      "text/plain": [
       "<catboost.core.CatBoostClassifier at 0x2450a04d310>"
      ]
     },
     "execution_count": 182,
     "metadata": {},
     "output_type": "execute_result"
    }
   ],
   "source": [
    "model.fit(\n",
    "    new_X_train_cat, y_train_cat,\n",
    "    cat_features=new_cat_features,\n",
    "    eval_set=(new_X_valid_cat, y_valid_cat),\n",
    "    verbose=False\n",
    ")"
   ]
  },
  {
   "cell_type": "code",
   "execution_count": 183,
   "metadata": {},
   "outputs": [
    {
     "data": {
      "text/plain": [
       "0.7407245608906139"
      ]
     },
     "execution_count": 183,
     "metadata": {},
     "output_type": "execute_result"
    }
   ],
   "source": [
    "# Оценка качества\n",
    "roc_auc_score(y_valid_cat, model.predict_proba(new_X_valid_cat)[:, 1])"
   ]
  },
  {
   "cell_type": "code",
   "execution_count": 184,
   "metadata": {},
   "outputs": [],
   "source": [
    "ans = pd.DataFrame({'ID': data_test.ID,  'result': model.predict_proba(new_X_test_cat)[:, 1]})"
   ]
  },
  {
   "cell_type": "code",
   "execution_count": 185,
   "metadata": {},
   "outputs": [],
   "source": [
    "ans.to_csv('kaggle.csv', index=False)"
   ]
  },
  {
   "cell_type": "markdown",
   "metadata": {},
   "source": [
    "## Оптимизация модели\n",
    "Самое качественное решение выдает модель CatBoost. Попробую подобрать оптимальные параметры по сетке."
   ]
  },
  {
   "cell_type": "code",
   "execution_count": 372,
   "metadata": {},
   "outputs": [],
   "source": [
    "cv = StratifiedKFold(n_splits=3, shuffle=True)\n",
    "grid = {'learning_rate': [0.01, 0.1, 0.25, 0.5, 1]}\n",
    "opt = GridSearchCV(model, grid, cv=cv, scoring='roc_auc')"
   ]
  },
  {
   "cell_type": "code",
   "execution_count": 373,
   "metadata": {},
   "outputs": [
    {
     "data": {
      "text/plain": [
       "GridSearchCV(cv=StratifiedKFold(n_splits=3, random_state=None, shuffle=True),\n",
       "             estimator=<catboost.core.CatBoostClassifier object at 0x00000245021C1D30>,\n",
       "             param_grid={'learning_rate': [0.01, 0.1, 0.25, 0.5, 1]},\n",
       "             scoring='roc_auc')"
      ]
     },
     "execution_count": 373,
     "metadata": {},
     "output_type": "execute_result"
    }
   ],
   "source": [
    "opt.fit(\n",
    "    X_train_cat, y_train_cat,\n",
    "    cat_features=cat_features,\n",
    "    eval_set=(X_valid_cat, y_valid_cat),\n",
    "    verbose=False\n",
    ")"
   ]
  },
  {
   "cell_type": "code",
   "execution_count": 374,
   "metadata": {},
   "outputs": [
    {
     "data": {
      "text/plain": [
       "{'learning_rate': 0.1}"
      ]
     },
     "execution_count": 374,
     "metadata": {},
     "output_type": "execute_result"
    }
   ],
   "source": [
    "opt.best_params_"
   ]
  },
  {
   "cell_type": "code",
   "execution_count": 375,
   "metadata": {},
   "outputs": [
    {
     "data": {
      "text/plain": [
       "0.7389489989751054"
      ]
     },
     "execution_count": 375,
     "metadata": {},
     "output_type": "execute_result"
    }
   ],
   "source": [
    "# Оценка качества\n",
    "roc_auc_score(y_valid_cat, opt.predict_proba(X_valid_cat)[:, 1])"
   ]
  },
  {
   "cell_type": "code",
   "execution_count": 25,
   "metadata": {},
   "outputs": [],
   "source": [
    "ans = pd.DataFrame({'ID': data_test.ID,  'result': opt.predict_proba(X_test_cat)[:, 1]})\n",
    "ans.to_csv('kaggle.csv', index=False)"
   ]
  },
  {
   "cell_type": "markdown",
   "metadata": {},
   "source": [
    "## Скриншот результата"
   ]
  },
  {
   "attachments": {
    "image-2.png": {
     "image/png": "[encoded data removed]"
    }
   },
   "cell_type": "markdown",
   "metadata": {},
   "source": [
    "![image-2.png](attachment:image-2.png)"
   ]
  }
 ],
 "metadata": {
  "kernelspec": {
   "display_name": "Python 3",
   "language": "python",
   "name": "python3"
  },
  "language_info": {
   "codemirror_mode": {
    "name": "ipython",
    "version": 3
   },
   "file_extension": ".py",
   "mimetype": "text/x-python",
   "name": "python",
   "nbconvert_exporter": "python",
   "pygments_lexer": "ipython3",
   "version": "3.8.5"
  }
 },
 "nbformat": 4,
 "nbformat_minor": 4
}
